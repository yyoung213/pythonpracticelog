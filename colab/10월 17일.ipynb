{
 "cells": [
  {
   "cell_type": "markdown",
   "metadata": {
    "id": "1cgYbeCh_kai"
   },
   "source": [
    "함수"
   ]
  },
  {
   "cell_type": "code",
   "execution_count": null,
   "metadata": {
    "id": "INtzVid4_lO6"
   },
   "outputs": [],
   "source": [
    "def 함수  이름 (매개변수 #1....):\n",
    "    수행문 1\n",
    "    수행문 2\n",
    "    RETURN<반환값>"
   ]
  },
  {
   "cell_type": "code",
   "execution_count": null,
   "metadata": {
    "colab": {
     "base_uri": "https://localhost:8080/"
    },
    "executionInfo": {
     "elapsed": 5,
     "status": "ok",
     "timestamp": 1665977769581,
     "user": {
      "displayName": "김민섭",
      "userId": "02717638383820753580"
     },
     "user_tz": -540
    },
    "id": "FRHMw_zcAVDA",
    "outputId": "547a4669-2245-43a4-d592-dc4e80b9afa1"
   },
   "outputs": [
    {
     "name": "stdout",
     "output_type": "stream",
     "text": [
      "11\n"
     ]
    }
   ],
   "source": [
    "def f(x):\n",
    "    return 2*x+7\n",
    "print(f(2))"
   ]
  },
  {
   "cell_type": "code",
   "execution_count": null,
   "metadata": {
    "colab": {
     "base_uri": "https://localhost:8080/"
    },
    "executionInfo": {
     "elapsed": 2959,
     "status": "ok",
     "timestamp": 1665978101254,
     "user": {
      "displayName": "김민섭",
      "userId": "02717638383820753580"
     },
     "user_tz": -540
    },
    "id": "3Q55QLoTBFYl",
    "outputId": "65e7c146-2104-4a16-95c5-d7eca2b5d519"
   },
   "outputs": [
    {
     "name": "stdout",
     "output_type": "stream",
     "text": [
      "사각형 x의 길이10\n",
      "사각형 y의 길이20\n",
      "사각형 x의 길이 10\n",
      "사각형 y의 길이 20\n",
      "사각형의 넓이: 200\n"
     ]
    }
   ],
   "source": [
    "def calculate_rectangle_area(x,y):\n",
    "    result=int(x)*int(y)\n",
    "    return result\n",
    "\n",
    "rectangle_x=input('사각형 x의 길이')\n",
    "rectangle_y=input('사각형 y의 길이')\n",
    "print('사각형 x의 길이',rectangle_x)\n",
    "print('사각형 y의 길이',rectangle_y)\n",
    "\n",
    "rectangle_area=calculate_rectangle_area(rectangle_x,rectangle_y)\n",
    "print('사각형의 넓이:',rectangle_area)"
   ]
  },
  {
   "cell_type": "code",
   "execution_count": null,
   "metadata": {
    "colab": {
     "base_uri": "https://localhost:8080/"
    },
    "executionInfo": {
     "elapsed": 332,
     "status": "ok",
     "timestamp": 1665978447017,
     "user": {
      "displayName": "김민섭",
      "userId": "02717638383820753580"
     },
     "user_tz": -540
    },
    "id": "GftftODUChlL",
    "outputId": "23f8f39e-f10c-472f-aeef-0402483b1705"
   },
   "outputs": [
    {
     "name": "stdout",
     "output_type": "stream",
     "text": [
      "151\n"
     ]
    }
   ],
   "source": [
    "def f(x):\n",
    "    return 2*x+7\n",
    "def g(x):\n",
    "    return x**2\n",
    "x=2\n",
    "print(f(x)+g(x)+f(g(x))+g(f(x)))"
   ]
  },
  {
   "cell_type": "code",
   "execution_count": null,
   "metadata": {
    "id": "RyDO2PSjDsg4"
   },
   "outputs": [],
   "source": [
    "def a_rectangle_area():#매개변수x 반환값x\n",
    "    print(5*7)\n",
    "def b_rectangle_area(x,y):#매개변수o 반환값x\n",
    "    print(x*y)\n",
    "def c_rectangle_area():#매개변수x 반환값o\n",
    "    return(5*7)\n",
    "def d_rectangle_area(x,y):#매개변수o 반환값o\n",
    "    return(x*y)"
   ]
  },
  {
   "cell_type": "code",
   "execution_count": null,
   "metadata": {
    "colab": {
     "base_uri": "https://localhost:8080/"
    },
    "executionInfo": {
     "elapsed": 276,
     "status": "ok",
     "timestamp": 1665978880990,
     "user": {
      "displayName": "김민섭",
      "userId": "02717638383820753580"
     },
     "user_tz": -540
    },
    "id": "hVlvkSAZEOGJ",
    "outputId": "b7269153-a227-487c-ddb2-21b4c9e5d6f6"
   },
   "outputs": [
    {
     "name": "stdout",
     "output_type": "stream",
     "text": [
      "6\n",
      "120\n"
     ]
    }
   ],
   "source": [
    "def multifly_elmnt(x):\n",
    "    sum=1\n",
    "    for i in range(len(x)):\n",
    "        sum=sum*x[i]\n",
    "    return sum\n",
    "list1=[1,2,3]\n",
    "list2=[4,5,6]\n",
    "print(multifly_elmnt(list1))\n",
    "print(multifly_elmnt(list2))"
   ]
  },
  {
   "cell_type": "markdown",
   "metadata": {
    "id": "lP-xc-EqGHdW"
   },
   "source": [
    "지역변수 전역변수\n",
    "\n",
    "지역을 전역으로쓰고 싶으면 global 쓰면 됌"
   ]
  },
  {
   "cell_type": "code",
   "execution_count": null,
   "metadata": {
    "colab": {
     "base_uri": "https://localhost:8080/"
    },
    "executionInfo": {
     "elapsed": 278,
     "status": "ok",
     "timestamp": 1665979537142,
     "user": {
      "displayName": "김민섭",
      "userId": "02717638383820753580"
     },
     "user_tz": -540
    },
    "id": "EewxIQdrGQUQ",
    "outputId": "f48204cd-475e-434f-a500-d68396e43ac3"
   },
   "outputs": [
    {
     "name": "stdout",
     "output_type": "stream",
     "text": [
      "55\n"
     ]
    }
   ],
   "source": [
    "def add(a):\n",
    "    global total\n",
    "    total+=a\n",
    "\n",
    "total=0 \n",
    "\n",
    "for  i in range(1,11):\n",
    "    add(i)\n",
    "print(total)"
   ]
  },
  {
   "cell_type": "code",
   "execution_count": null,
   "metadata": {
    "colab": {
     "base_uri": "https://localhost:8080/"
    },
    "executionInfo": {
     "elapsed": 3979,
     "status": "ok",
     "timestamp": 1665979845904,
     "user": {
      "displayName": "김민섭",
      "userId": "02717638383820753580"
     },
     "user_tz": -540
    },
    "id": "ODMJ3NSyIOOt",
    "outputId": "178dbbb5-cc1e-49be-cc1d-fe5a2c9a8ec8"
   },
   "outputs": [
    {
     "name": "stdout",
     "output_type": "stream",
     "text": [
      "Input Number for Factorial Calculation:5\n",
      "120\n"
     ]
    }
   ],
   "source": [
    "def factorial(n):\n",
    "    if n==1:\n",
    "        return 1\n",
    "    else:\n",
    "        return n*factorial(n-1)\n",
    "\n",
    "print(factorial(int(input(\"Input Number for Factorial Calculation:\"))))"
   ]
  }
 ],
 "metadata": {
  "colab": {
   "authorship_tag": "ABX9TyNWq7Y/lz1qcbUTFc6T7u/T",
   "provenance": []
  },
  "kernelspec": {
   "display_name": "Python 3",
   "name": "python3"
  },
  "language_info": {
   "name": "python"
  }
 },
 "nbformat": 4,
 "nbformat_minor": 0
}
