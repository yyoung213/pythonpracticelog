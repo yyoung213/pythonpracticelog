{
 "cells": [
  {
   "cell_type": "code",
   "execution_count": 11,
   "metadata": {
    "colab": {
     "base_uri": "https://localhost:8080/"
    },
    "executionInfo": {
     "elapsed": 412,
     "status": "ok",
     "timestamp": 1663731137186,
     "user": {
      "displayName": "김민섭",
      "userId": "02717638383820753580"
     },
     "user_tz": -540
    },
    "id": "q7vfkctb_Xk-",
    "outputId": "58dd0660-16f7-4d1a-ea13-b9a78f5f7b9c"
   },
   "outputs": [
    {
     "name": "stdout",
     "output_type": "stream",
     "text": [
      "[55, 22, 33, 44, 11]\n"
     ]
    }
   ],
   "source": [
    "A=[11,22,33,44,55]#11이랑 55바꾸기\n",
    "del A[0]\n",
    "del A[-1]\n",
    "A.insert(0,55)\n",
    "A.append(11)\n",
    "print(A)"
   ]
  },
  {
   "cell_type": "code",
   "execution_count": 13,
   "metadata": {
    "colab": {
     "base_uri": "https://localhost:8080/"
    },
    "executionInfo": {
     "elapsed": 411,
     "status": "ok",
     "timestamp": 1663731303279,
     "user": {
      "displayName": "김민섭",
      "userId": "02717638383820753580"
     },
     "user_tz": -540
    },
    "id": "IGhSvuliG6tI",
    "outputId": "13d46154-9d1d-4edd-b2e8-c048c1640a1e"
   },
   "outputs": [
    {
     "name": "stdout",
     "output_type": "stream",
     "text": [
      "[55, 22, 33, 44, 11]\n"
     ]
    }
   ],
   "source": [
    "A=[11,22,33,44,55]\n",
    "first=A.pop(0)#pop함수 A[0]을 없애고 그 값을 first에 집어넣음\n",
    "last=A.pop(-1)#A[-1]을 없애고 그 값을 last에 집어넣음\n",
    "A.insert(0,last)\n",
    "A.append(first)\n",
    "print(A)"
   ]
  },
  {
   "cell_type": "code",
   "execution_count": 14,
   "metadata": {
    "colab": {
     "base_uri": "https://localhost:8080/"
    },
    "executionInfo": {
     "elapsed": 410,
     "status": "ok",
     "timestamp": 1663731411309,
     "user": {
      "displayName": "김민섭",
      "userId": "02717638383820753580"
     },
     "user_tz": -540
    },
    "id": "pHIym4RPHir_",
    "outputId": "d1388f9a-6906-4fae-af48-5b48de91313b"
   },
   "outputs": [
    {
     "name": "stdout",
     "output_type": "stream",
     "text": [
      "[55, 22, 33, 44, 11]\n"
     ]
    }
   ],
   "source": [
    "A=[11,22,33,44,55]\n",
    "A.insert(0,A.pop(-1))\n",
    "A.append(A.pop(1))\n",
    "print(A)"
   ]
  },
  {
   "cell_type": "code",
   "execution_count": 6,
   "metadata": {
    "colab": {
     "base_uri": "https://localhost:8080/"
    },
    "executionInfo": {
     "elapsed": 313,
     "status": "ok",
     "timestamp": 1663730497599,
     "user": {
      "displayName": "김민섭",
      "userId": "02717638383820753580"
     },
     "user_tz": -540
    },
    "id": "Es9pWJ2_D46I",
    "outputId": "9cd11890-ccf9-4b5c-881a-026b5c975549"
   },
   "outputs": [
    {
     "name": "stdout",
     "output_type": "stream",
     "text": [
      "Original list:  [11, 22, 33, 44, 55]\n",
      "Switched list:  [55, 22, 33, 44, 11]\n"
     ]
    }
   ],
   "source": [
    "A=[11,22,33,44,55]\n",
    "print('Original list: ',A)\n",
    "temp=A[0]\n",
    "A[0]=A[-1]\n",
    "A[-1]=temp\n",
    "print('Switched list: ',A)"
   ]
  },
  {
   "cell_type": "code",
   "execution_count": 4,
   "metadata": {
    "colab": {
     "base_uri": "https://localhost:8080/"
    },
    "executionInfo": {
     "elapsed": 316,
     "status": "ok",
     "timestamp": 1663730097424,
     "user": {
      "displayName": "김민섭",
      "userId": "02717638383820753580"
     },
     "user_tz": -540
    },
    "id": "zHrA-ma0B7KH",
    "outputId": "9ba058d2-80f8-4745-a03b-3d6f626eb346"
   },
   "outputs": [
    {
     "name": "stdout",
     "output_type": "stream",
     "text": [
      "[55, 22, 33, 44, 11]\n"
     ]
    }
   ],
   "source": [
    "A=[11,22,33,44,55]\n",
    "element1=A[0]\n",
    "element2=A[4]\n",
    "A[0]=element2\n",
    "A[4]=element1\n",
    "print(A)"
   ]
  },
  {
   "cell_type": "code",
   "execution_count": 5,
   "metadata": {
    "colab": {
     "base_uri": "https://localhost:8080/"
    },
    "executionInfo": {
     "elapsed": 390,
     "status": "ok",
     "timestamp": 1663730271679,
     "user": {
      "displayName": "김민섭",
      "userId": "02717638383820753580"
     },
     "user_tz": -540
    },
    "id": "NZjgg0y1DMF5",
    "outputId": "a541f564-24f2-4dd4-9847-bd3902c87d7b"
   },
   "outputs": [
    {
     "name": "stdout",
     "output_type": "stream",
     "text": [
      "[55, 22, 33, 44, 11]\n"
     ]
    }
   ],
   "source": [
    "A=[11,22,33,44,55]\n",
    "A[0],A[4]=A[4],A[0]\n",
    "print(A)"
   ]
  },
  {
   "cell_type": "code",
   "execution_count": 16,
   "metadata": {
    "colab": {
     "base_uri": "https://localhost:8080/"
    },
    "executionInfo": {
     "elapsed": 312,
     "status": "ok",
     "timestamp": 1663731638641,
     "user": {
      "displayName": "김민섭",
      "userId": "02717638383820753580"
     },
     "user_tz": -540
    },
    "id": "bzN1dkz4H13w",
    "outputId": "968dcc64-2126-4399-908d-ca453eef419b"
   },
   "outputs": [
    {
     "name": "stdout",
     "output_type": "stream",
     "text": [
      "[[49, 79, 20, 100, 80], [43, 59, 85, 30, 90], [49, 79, 48, 60, 100]]\n",
      "20\n"
     ]
    }
   ],
   "source": [
    "kor_score=[49,79,20,100,80]#이차원 리스트 리스트안의 리스트\n",
    "math_score=[43,59,85,30,90]\n",
    "eng_score=[49,79,48,60,100]\n",
    "midterm_score=[kor_score,math_score,eng_score]\n",
    "print(midterm_score)\n",
    "print(midterm_score[0][2])"
   ]
  },
  {
   "cell_type": "code",
   "execution_count": 22,
   "metadata": {
    "colab": {
     "base_uri": "https://localhost:8080/"
    },
    "executionInfo": {
     "elapsed": 417,
     "status": "ok",
     "timestamp": 1663732184997,
     "user": {
      "displayName": "김민섭",
      "userId": "02717638383820753580"
     },
     "user_tz": -540
    },
    "id": "k1Tk7udHIwJL",
    "outputId": "c9a8d3b8-2acb-4418-9550-984e63eb52bb"
   },
   "outputs": [
    {
     "name": "stdout",
     "output_type": "stream",
     "text": [
      "수\n",
      "g\n",
      "['월', '화', '수', '목', '금']\n",
      "['r', 'g', 'b']\n",
      "[['r', 'g', 'b'], ['월', '화', '수', '목', '금'], [1, 2, 3, 4, 5]]\n"
     ]
    }
   ],
   "source": [
    "dat1=[1,2,3,4,5]#퀴즈 이차원리스트 출력\n",
    "dat2=['월','화','수','목','금']\n",
    "dat3=['r','g','b']\n",
    "M=[dat1,dat2,dat3]\n",
    "print(M[1][2])\n",
    "print(M[2][1])\n",
    "print(M[1])\n",
    "print(M[2])\n",
    "temp=M[0]\n",
    "M[0]=M[-1]\n",
    "M[-1]=temp\n",
    "print(M)"
   ]
  },
  {
   "cell_type": "markdown",
   "metadata": {
    "id": "DKHaZpyeLq8W"
   },
   "source": [
    "#리스트의 메모리관리방식\n",
    "\n",
    "파이썬은 리스트를 저장할때 값 자체가 아니라, 값이 위치한 메모리 주소를 연속으로 저장한다\n"
   ]
  },
  {
   "cell_type": "code",
   "execution_count": 1,
   "metadata": {
    "colab": {
     "base_uri": "https://localhost:8080/"
    },
    "executionInfo": {
     "elapsed": 345,
     "status": "ok",
     "timestamp": 1664162527248,
     "user": {
      "displayName": "김민섭",
      "userId": "02717638383820753580"
     },
     "user_tz": -540
    },
    "id": "9On29zSaLwe6",
    "outputId": "fee0f9a6-ea58-4fea-c6c4-db4e720f7045"
   },
   "outputs": [
    {
     "data": {
      "text/plain": [
       "[[49, 79, 20, 100, 80], [1000, 59, 85, 30, 90], [49, 79, 48, 60, 100]]"
      ]
     },
     "execution_count": 1,
     "metadata": {},
     "output_type": "execute_result"
    }
   ],
   "source": [
    "kor_score=[49,79,20,100,80]\n",
    "math_score=[43,59,85,30,90]\n",
    "eng_score=[49,79,48,60,100]\n",
    "midterm_score=[kor_score,math_score,eng_score]\n",
    "math_score[0]=1000"
   ]
  },
  {
   "cell_type": "markdown",
   "metadata": {
    "id": "onwgoV3HM0kR"
   },
   "source": [
    "#리스트의 메모라 저장\n",
    "\n",
    "==은 값을 비교하는 연산이고, is는 메모리릐 주소를 비교하는 연산이다.\n",
    "아래 코등에서 a와 b는 같지만, 메모리의 저장 주소는 다른 것이다"
   ]
  },
  {
   "cell_type": "code",
   "execution_count": 25,
   "metadata": {
    "colab": {
     "base_uri": "https://localhost:8080/"
    },
    "executionInfo": {
     "elapsed": 779,
     "status": "ok",
     "timestamp": 1663732875785,
     "user": {
      "displayName": "김민섭",
      "userId": "02717638383820753580"
     },
     "user_tz": -540
    },
    "id": "01fF1IYCNDeq",
    "outputId": "bcd38a17-98ce-48d6-c587-c58432ff9084"
   },
   "outputs": [
    {
     "name": "stdout",
     "output_type": "stream",
     "text": [
      "False\n"
     ]
    },
    {
     "data": {
      "text/plain": [
       "True"
      ]
     },
     "execution_count": 25,
     "metadata": {},
     "output_type": "execute_result"
    }
   ],
   "source": [
    "a=300\n",
    "b=300\n",
    "print(a is b)\n",
    "a==b"
   ]
  },
  {
   "cell_type": "code",
   "execution_count": 27,
   "metadata": {
    "colab": {
     "base_uri": "https://localhost:8080/"
    },
    "executionInfo": {
     "elapsed": 3,
     "status": "ok",
     "timestamp": 1663732914849,
     "user": {
      "displayName": "김민섭",
      "userId": "02717638383820753580"
     },
     "user_tz": -540
    },
    "id": "CVC7EVA2NSxj",
    "outputId": "b74deb9a-b719-41b8-e4a3-79a6c6ec6b64"
   },
   "outputs": [
    {
     "name": "stdout",
     "output_type": "stream",
     "text": [
      "True\n",
      "True\n"
     ]
    }
   ],
   "source": [
    "a=1 #-5 부터256까지의 정수값을 특정 메모리 주소에 저장\n",
    "b=1\n",
    "print(a is b)\n",
    "print(a==b)"
   ]
  },
  {
   "cell_type": "code",
   "execution_count": 29,
   "metadata": {
    "colab": {
     "base_uri": "https://localhost:8080/"
    },
    "executionInfo": {
     "elapsed": 359,
     "status": "ok",
     "timestamp": 1663733133992,
     "user": {
      "displayName": "김민섭",
      "userId": "02717638383820753580"
     },
     "user_tz": -540
    },
    "id": "KgqsE45JNt9e",
    "outputId": "d5e3655c-2cde-41d8-9473-f05f81fce6ee"
   },
   "outputs": [
    {
     "name": "stdout",
     "output_type": "stream",
     "text": [
      "[['yellow', 'blue', 'green', 'black', 'purple'], 1, 0.2]\n",
      "green\n",
      "['green', 'black', 'purple']\n"
     ]
    }
   ],
   "source": [
    "a=['color',1,0.2]\n",
    "color=['yellow','blue','green','black','purple']\n",
    "a[0]=color\n",
    "print(a)\n",
    "print(a[0][2])\n",
    "print(a[0][2::])"
   ]
  }
 ],
 "metadata": {
  "colab": {
   "authorship_tag": "ABX9TyPLxTlDXRoNnkL/qghnKIha",
   "provenance": []
  },
  "kernelspec": {
   "display_name": "Python 3",
   "name": "python3"
  },
  "language_info": {
   "name": "python",
   "version": "3.13.1"
  }
 },
 "nbformat": 4,
 "nbformat_minor": 0
}
