{
 "cells": [
  {
   "cell_type": "markdown",
   "metadata": {
    "id": "uZ-Y1y4K-qXa"
   },
   "source": [
    "동적 타이핑\n",
    "\n",
    "변수의 메모리 공간을 확보하는 행위가 실행 시점에서 발생\n",
    "\n",
    "C나 JAVA는 int a=1같이 사전에 자료형을 선언\n",
    "\n",
    "파이썬은 인터프리터가 스스로 판단\n",
    "\n",
    "int a,b;\n",
    "float c;\n",
    "a=3;\n",
    "b=5;\n",
    "c=10.5\n",
    "\n",
    "이건 c\n"
   ]
  },
  {
   "cell_type": "code",
   "execution_count": 2,
   "metadata": {
    "colab": {
     "base_uri": "https://localhost:8080/"
    },
    "executionInfo": {
     "elapsed": 318,
     "status": "ok",
     "timestamp": 1663125251603,
     "user": {
      "displayName": "김민섭",
      "userId": "02717638383820753580"
     },
     "user_tz": -540
    },
    "id": "r8zOYP4G_EkC",
    "outputId": "88596397-e853-48e1-c814-768652e57e3d"
   },
   "outputs": [
    {
     "name": "stdout",
     "output_type": "stream",
     "text": [
      "1 1\n"
     ]
    }
   ],
   "source": [
    "a=1\n",
    "b=1\n",
    "print(a,b)"
   ]
  },
  {
   "cell_type": "code",
   "execution_count": 4,
   "metadata": {
    "colab": {
     "base_uri": "https://localhost:8080/"
    },
    "executionInfo": {
     "elapsed": 306,
     "status": "ok",
     "timestamp": 1663125295986,
     "user": {
      "displayName": "김민섭",
      "userId": "02717638383820753580"
     },
     "user_tz": -540
    },
    "id": "pMp3vV9c_XC2",
    "outputId": "3cc7ef0d-bdea-4b4e-fdac-00a6b5b9368a"
   },
   "outputs": [
    {
     "name": "stdout",
     "output_type": "stream",
     "text": [
      "1.5 3.5\n"
     ]
    }
   ],
   "source": [
    "a=1.5\n",
    "b=3.5\n",
    "print(a,b)"
   ]
  },
  {
   "cell_type": "code",
   "execution_count": 6,
   "metadata": {
    "colab": {
     "base_uri": "https://localhost:8080/"
    },
    "executionInfo": {
     "elapsed": 283,
     "status": "ok",
     "timestamp": 1663125364190,
     "user": {
      "displayName": "김민섭",
      "userId": "02717638383820753580"
     },
     "user_tz": -540
    },
    "id": "V7hQpmZL_oDp",
    "outputId": "1f88c07f-f2cc-4272-f033-d1d05c6c5284"
   },
   "outputs": [
    {
     "name": "stdout",
     "output_type": "stream",
     "text": [
      "True False\n"
     ]
    }
   ],
   "source": [
    "a=True  \n",
    "b=False\n",
    "print(a,b)"
   ]
  },
  {
   "cell_type": "code",
   "execution_count": 5,
   "metadata": {
    "colab": {
     "base_uri": "https://localhost:8080/"
    },
    "executionInfo": {
     "elapsed": 4,
     "status": "ok",
     "timestamp": 1663125315313,
     "user": {
      "displayName": "김민섭",
      "userId": "02717638383820753580"
     },
     "user_tz": -540
    },
    "id": "ESBGxikz_e39",
    "outputId": "d9866bc4-f159-46df-9c68-42acbaba44f9"
   },
   "outputs": [
    {
     "name": "stdout",
     "output_type": "stream",
     "text": [
      "ABC 10101\n"
     ]
    }
   ],
   "source": [
    "a=\"ABC\"\n",
    "b=\"10101\"\n",
    "print(a,b)"
   ]
  },
  {
   "cell_type": "code",
   "execution_count": 8,
   "metadata": {
    "colab": {
     "base_uri": "https://localhost:8080/"
    },
    "executionInfo": {
     "elapsed": 316,
     "status": "ok",
     "timestamp": 1663125416521,
     "user": {
      "displayName": "김민섭",
      "userId": "02717638383820753580"
     },
     "user_tz": -540
    },
    "id": "q8Go_rRE_4eI",
    "outputId": "eee2bb16-37a2-4070-8c1f-a84ef7cc545b"
   },
   "outputs": [
    {
     "data": {
      "text/plain": [
       "18"
      ]
     },
     "execution_count": 8,
     "metadata": {},
     "output_type": "execute_result"
    }
   ],
   "source": [
    "25+30\n",
    "30-12"
   ]
  },
  {
   "cell_type": "code",
   "execution_count": 11,
   "metadata": {
    "colab": {
     "base_uri": "https://localhost:8080/"
    },
    "executionInfo": {
     "elapsed": 268,
     "status": "ok",
     "timestamp": 1663125535338,
     "user": {
      "displayName": "김민섭",
      "userId": "02717638383820753580"
     },
     "user_tz": -540
    },
    "id": "SywyFEoBAMTV",
    "outputId": "798688ec-66f5-444c-e3ee-4c1e88c25579"
   },
   "outputs": [
    {
     "name": "stdout",
     "output_type": "stream",
     "text": [
      "3\n",
      "1\n",
      "243\n"
     ]
    }
   ],
   "source": [
    "print(7//2)#몫\n",
    "print(7%2)#나머지\n",
    "print(3**5)     ###3의 5승  R은3^5 "
   ]
  },
  {
   "cell_type": "code",
   "execution_count": 12,
   "metadata": {
    "colab": {
     "base_uri": "https://localhost:8080/"
    },
    "executionInfo": {
     "elapsed": 314,
     "status": "ok",
     "timestamp": 1663125649029,
     "user": {
      "displayName": "김민섭",
      "userId": "02717638383820753580"
     },
     "user_tz": -540
    },
    "id": "sh7Sw3h0AxNx",
    "outputId": "83e60785-7fe9-44d8-a0a7-1986eadab4f1"
   },
   "outputs": [
    {
     "name": "stdout",
     "output_type": "stream",
     "text": [
      "2\n"
     ]
    }
   ],
   "source": [
    "#증가연산과 감소연산\n",
    "\n",
    "a=1\n",
    "a=a+1\n",
    "print(a)"
   ]
  },
  {
   "cell_type": "code",
   "execution_count": null,
   "metadata": {
    "id": "oT6xDegKA46d"
   },
   "outputs": [],
   "source": [
    "a+=1   #a=a+1 이라는뜻\n"
   ]
  },
  {
   "cell_type": "code",
   "execution_count": 13,
   "metadata": {
    "colab": {
     "base_uri": "https://localhost:8080/"
    },
    "executionInfo": {
     "elapsed": 4,
     "status": "ok",
     "timestamp": 1663125709711,
     "user": {
      "displayName": "김민섭",
      "userId": "02717638383820753580"
     },
     "user_tz": -540
    },
    "id": "_cuo2eQZBAb1",
    "outputId": "563be8ae-a802-4b96-bc39-3171da2234ef"
   },
   "outputs": [
    {
     "name": "stdout",
     "output_type": "stream",
     "text": [
      "0\n"
     ]
    }
   ],
   "source": [
    "a=a-1     #a에서 1빼기\n",
    "a-=1     #a에서 1빼기\n",
    "print(a)"
   ]
  },
  {
   "cell_type": "code",
   "execution_count": 14,
   "metadata": {
    "colab": {
     "base_uri": "https://localhost:8080/"
    },
    "executionInfo": {
     "elapsed": 317,
     "status": "ok",
     "timestamp": 1663125794734,
     "user": {
      "displayName": "김민섭",
      "userId": "02717638383820753580"
     },
     "user_tz": -540
    },
    "id": "t1U0rVtlBQHV",
    "outputId": "07ceeef4-162b-4d1d-d854-63168fa1bc89"
   },
   "outputs": [
    {
     "name": "stdout",
     "output_type": "stream",
     "text": [
      "13\n"
     ]
    }
   ],
   "source": [
    "a=5\n",
    "b=10\n",
    "a+=1\n",
    "b-=3\n",
    "a+=b\n",
    "print(a)  #증가연산 감소연산 퀴즈 "
   ]
  },
  {
   "cell_type": "code",
   "execution_count": 16,
   "metadata": {
    "colab": {
     "base_uri": "https://localhost:8080/"
    },
    "executionInfo": {
     "elapsed": 4,
     "status": "ok",
     "timestamp": 1663125971220,
     "user": {
      "displayName": "김민섭",
      "userId": "02717638383820753580"
     },
     "user_tz": -540
    },
    "id": "EUPXOp4xB-p3",
    "outputId": "6044afbe-7cf6-4ff8-9504-deb580da7bb8"
   },
   "outputs": [
    {
     "name": "stdout",
     "output_type": "stream",
     "text": [
      "10\n",
      "10.0\n"
     ]
    }
   ],
   "source": [
    "a=10\n",
    "print(a)\n",
    "a=float(10)#10을 실수형으로 변경\n",
    "print(a)"
   ]
  },
  {
   "cell_type": "code",
   "execution_count": 20,
   "metadata": {
    "colab": {
     "base_uri": "https://localhost:8080/"
    },
    "executionInfo": {
     "elapsed": 256,
     "status": "ok",
     "timestamp": 1663126095184,
     "user": {
      "displayName": "김민섭",
      "userId": "02717638383820753580"
     },
     "user_tz": -540
    },
    "id": "zzEivouYCJOS",
    "outputId": "ffe21c0c-5a6c-435b-9745-7d08d5d5029c"
   },
   "outputs": [
    {
     "name": "stdout",
     "output_type": "stream",
     "text": [
      "10 10\n",
      "3\n"
     ]
    }
   ],
   "source": [
    "a=int(10.7)\n",
    "b=int(10.3)\n",
    "print(a,b)#실수를 정수로 변경\n",
    "\n",
    "\n",
    "a=10\n",
    "b=3\n",
    "print(int(a/b))"
   ]
  },
  {
   "cell_type": "code",
   "execution_count": 22,
   "metadata": {
    "colab": {
     "base_uri": "https://localhost:8080/"
    },
    "executionInfo": {
     "elapsed": 318,
     "status": "ok",
     "timestamp": 1663126190178,
     "user": {
      "displayName": "김민섭",
      "userId": "02717638383820753580"
     },
     "user_tz": -540
    },
    "id": "3Risn1MXCnBU",
    "outputId": "1d6572f1-a3cf-4b5a-952c-a22b8a9333af"
   },
   "outputs": [
    {
     "name": "stdout",
     "output_type": "stream",
     "text": [
      "True\n",
      "False\n",
      "False\n",
      "True\n"
     ]
    }
   ],
   "source": [
    "1==True\n",
    "1==False\n",
    "0==True\n",
    "0==False\n",
    "print(1==True)\n",
    "print(1==False)\n",
    "print(0==True)\n",
    "print(0==False) "
   ]
  },
  {
   "cell_type": "code",
   "execution_count": 24,
   "metadata": {
    "colab": {
     "base_uri": "https://localhost:8080/",
     "height": 251
    },
    "executionInfo": {
     "elapsed": 6,
     "status": "error",
     "timestamp": 1663126272481,
     "user": {
      "displayName": "김민섭",
      "userId": "02717638383820753580"
     },
     "user_tz": -540
    },
    "id": "TDuukrqmDBu2",
    "outputId": "b2ed7e08-2fd2-4b5b-96d6-457911258bb1"
   },
   "outputs": [
    {
     "name": "stdout",
     "output_type": "stream",
     "text": [
      "76.3\n",
      "76.3\n"
     ]
    },
    {
     "ename": "TypeError",
     "evalue": "ignored",
     "output_type": "error",
     "traceback": [
      "\u001b[0;31m---------------------------------------------------------------------------\u001b[0m",
      "\u001b[0;31mTypeError\u001b[0m                                 Traceback (most recent call last)",
      "\u001b[0;32m<ipython-input-24-93c1c32d0a2e>\u001b[0m in \u001b[0;36m<module>\u001b[0;34m\u001b[0m\n\u001b[1;32m      3\u001b[0m \u001b[0mprint\u001b[0m\u001b[0;34m(\u001b[0m\u001b[0ma\u001b[0m\u001b[0;34m)\u001b[0m\u001b[0;34m\u001b[0m\u001b[0;34m\u001b[0m\u001b[0m\n\u001b[1;32m      4\u001b[0m \u001b[0mprint\u001b[0m\u001b[0;34m(\u001b[0m\u001b[0mb\u001b[0m\u001b[0;34m)\u001b[0m\u001b[0;34m\u001b[0m\u001b[0;34m\u001b[0m\u001b[0m\n\u001b[0;32m----> 5\u001b[0;31m \u001b[0mprint\u001b[0m\u001b[0;34m(\u001b[0m\u001b[0ma\u001b[0m\u001b[0;34m+\u001b[0m\u001b[0mb\u001b[0m\u001b[0;34m)\u001b[0m\u001b[0;34m\u001b[0m\u001b[0;34m\u001b[0m\u001b[0m\n\u001b[0m",
      "\u001b[0;31mTypeError\u001b[0m: can only concatenate str (not \"float\") to str"
     ]
    }
   ],
   "source": [
    "a='76.3'\n",
    "b=float(a)\n",
    "print(a)\n",
    "print(b)\n",
    "print(a+b)  #문자형과 실수형은 덧셈이 불가능\n"
   ]
  },
  {
   "cell_type": "code",
   "execution_count": 26,
   "metadata": {
    "colab": {
     "base_uri": "https://localhost:8080/"
    },
    "executionInfo": {
     "elapsed": 4,
     "status": "ok",
     "timestamp": 1663126440396,
     "user": {
      "displayName": "김민섭",
      "userId": "02717638383820753580"
     },
     "user_tz": -540
    },
    "id": "UuToXeULDmk_",
    "outputId": "40476eaa-4446-4e7a-fdff-2dad5d846a47"
   },
   "outputs": [
    {
     "name": "stdout",
     "output_type": "stream",
     "text": [
      "76.3 76.3\n",
      "76.376.3\n"
     ]
    }
   ],
   "source": [
    "a='76.3'\n",
    "b=76.3\n",
    "a=float(a)\n",
    "print(a,b)\n",
    "a=str(a)\n",
    "b=str(b)\n",
    "print(a+b)"
   ]
  },
  {
   "cell_type": "code",
   "execution_count": 31,
   "metadata": {
    "colab": {
     "base_uri": "https://localhost:8080/"
    },
    "executionInfo": {
     "elapsed": 4,
     "status": "ok",
     "timestamp": 1663126559626,
     "user": {
      "displayName": "김민섭",
      "userId": "02717638383820753580"
     },
     "user_tz": -540
    },
    "id": "Ma41Fw_PECgh",
    "outputId": "98b714cd-6bd0-4246-b7df-08c1b93dd02f"
   },
   "outputs": [
    {
     "name": "stdout",
     "output_type": "stream",
     "text": [
      "<class 'int'>\n",
      "<class 'float'>\n",
      "<class 'str'>\n"
     ]
    }
   ],
   "source": [
    "a=int(10.3)\n",
    "b=float(10.3)\n",
    "c=str(10.3)\n",
    "print(type(a))\n",
    "print(type(b))\n",
    "print(type(c))"
   ]
  },
  {
   "cell_type": "code",
   "execution_count": 37,
   "metadata": {
    "colab": {
     "base_uri": "https://localhost:8080/"
    },
    "executionInfo": {
     "elapsed": 292,
     "status": "ok",
     "timestamp": 1663126982738,
     "user": {
      "displayName": "김민섭",
      "userId": "02717638383820753580"
     },
     "user_tz": -540
    },
    "id": "ju0nue1DEbNK",
    "outputId": "7d0b2e63-77d8-4889-d5a3-a7a64842fc23"
   },
   "outputs": [
    {
     "name": "stdout",
     "output_type": "stream",
     "text": [
      "2020년,\"COVID\" 확산의 해로 기록되겠죠\n"
     ]
    }
   ],
   "source": [
    "#퀴즈\n",
    "a=20.5\n",
    "a=int(a)\n",
    "a=str(a)\n",
    "print(a+a+'년,\"COVID\" 확산의 해로 기록되겠죠')"
   ]
  },
  {
   "cell_type": "markdown",
   "metadata": {
    "id": "6gFDZnexHhoe"
   },
   "source": [
    "#화면 입출력과 리스트\n",
    "\n",
    "출력함수 print() ,(콤마)사용\n",
    "\n",
    "입력함수 input() 함수\n",
    "\n",
    "\n",
    "#2R: reusability + Readability\n",
    "\n",
    "##Nested function 중첩함수"
   ]
  },
  {
   "cell_type": "code",
   "execution_count": 39,
   "metadata": {
    "colab": {
     "base_uri": "https://localhost:8080/"
    },
    "executionInfo": {
     "elapsed": 4040,
     "status": "ok",
     "timestamp": 1663127580503,
     "user": {
      "displayName": "김민섭",
      "userId": "02717638383820753580"
     },
     "user_tz": -540
    },
    "id": "-nVQT4KDHlxI",
    "outputId": "32097a81-afc2-4105-96c4-83a0a894d745"
   },
   "outputs": [
    {
     "name": "stdout",
     "output_type": "stream",
     "text": [
      "Enter your name :\n",
      "김민섭\n",
      "김민섭, Welcome to Kyung Hee University!\n"
     ]
    }
   ],
   "source": [
    "print(\"Enter your name :\") \n",
    "name=input()\n",
    "print(name + ', Welcome to Kyung Hee University!')"
   ]
  },
  {
   "cell_type": "code",
   "execution_count": 40,
   "metadata": {
    "colab": {
     "base_uri": "https://localhost:8080/"
    },
    "executionInfo": {
     "elapsed": 20713,
     "status": "ok",
     "timestamp": 1663127694504,
     "user": {
      "displayName": "김민섭",
      "userId": "02717638383820753580"
     },
     "user_tz": -540
    },
    "id": "Pryi8k82ISQ4",
    "outputId": "bdd65667-cd35-4c17-a7a6-b85846d1573d"
   },
   "outputs": [
    {
     "name": "stdout",
     "output_type": "stream",
     "text": [
      "Enter your name: 김민섭\n",
      "김민섭, Welcome to Kyung Hee University!\n"
     ]
    }
   ],
   "source": [
    "name=input('Enter your name: ')\n",
    "print(name+ ', Welcome to Kyung Hee University!')"
   ]
  },
  {
   "cell_type": "code",
   "execution_count": 1,
   "metadata": {
    "colab": {
     "base_uri": "https://localhost:8080/"
    },
    "executionInfo": {
     "elapsed": 2761,
     "status": "ok",
     "timestamp": 1663127870387,
     "user": {
      "displayName": "김민섭",
      "userId": "02717638383820753580"
     },
     "user_tz": -540
    },
    "id": "mMJMFc5nJF62",
    "outputId": "13b20f9d-f15c-4e95-bc23-d587565b56ee"
   },
   "outputs": [
    {
     "name": "stdout",
     "output_type": "stream",
     "text": [
      "김민섭, Welcome to Kyung Hee University!\n"
     ]
    }
   ],
   "source": [
    "msg=\"Enter your name: \"\n",
    "name=input(msg)\n",
    "print(name+\", Welcome to Kyung Hee University!\")"
   ]
  },
  {
   "cell_type": "code",
   "execution_count": 43,
   "metadata": {
    "colab": {
     "base_uri": "https://localhost:8080/"
    },
    "executionInfo": {
     "elapsed": 2157,
     "status": "ok",
     "timestamp": 1663128152523,
     "user": {
      "displayName": "김민섭",
      "userId": "02717638383820753580"
     },
     "user_tz": -540
    },
    "id": "pv72Fz89KKar",
    "outputId": "b16ad0b3-c022-4135-f11b-d9e2a4e9736f"
   },
   "outputs": [
    {
     "name": "stdout",
     "output_type": "stream",
     "text": [
      "온도를 입력하세요:103\n",
      "103.0\n"
     ]
    }
   ],
   "source": [
    "temperature=float(input(\"온도를 입력하세요:\"))\n",
    "print(temperature)"
   ]
  },
  {
   "cell_type": "code",
   "execution_count": 46,
   "metadata": {
    "colab": {
     "base_uri": "https://localhost:8080/"
    },
    "executionInfo": {
     "elapsed": 6164,
     "status": "ok",
     "timestamp": 1663128724109,
     "user": {
      "displayName": "김민섭",
      "userId": "02717638383820753580"
     },
     "user_tz": -540
    },
    "id": "HBWvLz1kLLBz",
    "outputId": "f81cbf17-7c19-4b8b-820b-6e1c7dac6be2"
   },
   "outputs": [
    {
     "name": "stdout",
     "output_type": "stream",
     "text": [
      "본 프로그램은 섭씨온도를 화씨온도로 변환하는 프로그램입니다.\n",
      "\n",
      "변환하고 싶은 온도를 입력하세요.32.5\n",
      "섭씨온도:  32.5\n",
      "화씨온도:  90.5\n"
     ]
    }
   ],
   "source": [
    "print(\"본 프로그램은 섭씨온도를 화씨온도로 변환하는 프로그램입니다.\")\n",
    "b=\"\\n변환하고 싶은 온도를 입력하세요.\"\n",
    "c=float(input(b))\n",
    "print(\"섭씨온도: \",c)\n",
    "print(\"화씨온도: \",c*1.8+32)\n"
   ]
  }
 ],
 "metadata": {
  "colab": {
   "authorship_tag": "ABX9TyPOYmYU55RSWkb6MRQdEGkM",
   "provenance": []
  },
  "kernelspec": {
   "display_name": "Python 3",
   "name": "python3"
  },
  "language_info": {
   "codemirror_mode": {
    "name": "ipython",
    "version": 3
   },
   "file_extension": ".py",
   "mimetype": "text/x-python",
   "name": "python",
   "nbconvert_exporter": "python",
   "pygments_lexer": "ipython3",
   "version": "3.13.1"
  }
 },
 "nbformat": 4,
 "nbformat_minor": 0
}
