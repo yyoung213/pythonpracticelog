{
 "cells": [
  {
   "cell_type": "code",
   "execution_count": null,
   "metadata": {},
   "outputs": [
    {
     "data": {
      "text/plain": [
       "2"
      ]
     },
     "execution_count": 4,
     "metadata": {},
     "output_type": "execute_result"
    }
   ],
   "source": [
    "def calculate_rectangle_area(x,y):\n",
    "    return x*y\n",
    "\n"
   ]
  },
  {
   "cell_type": "code",
   "execution_count": 5,
   "metadata": {},
   "outputs": [
    {
     "name": "stdout",
     "output_type": "stream",
     "text": [
      "사각형 x의 길이: 10\n",
      "사각형 y의 길이: 20\n",
      "사각형의 넓이: 200\n"
     ]
    }
   ],
   "source": [
    "def calculate_rectangle_area(x,y):\n",
    "    return x*y\n",
    "\n",
    "rectangle_x=10\n",
    "rectangle_y=20\n",
    "print(\"사각형 x의 길이:\", rectangle_x)\n",
    "print(\"사각형 y의 길이:\", rectangle_y)\n",
    "\n",
    "print(\"사각형의 넓이:\", calculate_rectangle_area(rectangle_x,rectangle_y))"
   ]
  },
  {
   "cell_type": "code",
   "execution_count": 6,
   "metadata": {},
   "outputs": [
    {
     "name": "stdout",
     "output_type": "stream",
     "text": [
      "151\n"
     ]
    }
   ],
   "source": [
    "def f(x):\n",
    "    return 2*x+7\n",
    "def g(x):\n",
    "    return x**2\n",
    "x=2\n",
    "print(f(x)+g(x) +f(g(x)) +g(f(x)))"
   ]
  },
  {
   "cell_type": "code",
   "execution_count": 7,
   "metadata": {},
   "outputs": [
    {
     "name": "stdout",
     "output_type": "stream",
     "text": [
      "35\n",
      "35\n",
      "35\n",
      "35\n"
     ]
    }
   ],
   "source": [
    "def a_rectangle_area():\n",
    "    print(5*7)\n",
    "def b_rectangle_area(x,y):\n",
    "    print(x*y)\n",
    "def c_rectangle_area():\n",
    "    return(5*7)\n",
    "def d_rectangle_area(x,y):\n",
    "    return(x*y)\n",
    "\n",
    "a_rectangle_area()\n",
    "b_rectangle_area(5,7)\n",
    "print(c_rectangle_area())\n",
    "print(d_rectangle_area(5,7))\n",
    "\n",
    "\n",
    "\n"
   ]
  },
  {
   "cell_type": "code",
   "execution_count": 9,
   "metadata": {},
   "outputs": [
    {
     "name": "stdout",
     "output_type": "stream",
     "text": [
      "9\n",
      "3\n"
     ]
    }
   ],
   "source": [
    "def f(x):\n",
    "    y=x\n",
    "    x=5\n",
    "    return y*y\n",
    "\n",
    "x=3\n",
    "print(f(x))\n",
    "print(x)"
   ]
  },
  {
   "cell_type": "code",
   "execution_count": null,
   "metadata": {},
   "outputs": [],
   "source": [
    "def multifly_elmnt(x):\n",
    "    sum=1\n",
    "    for i in range(len(x)):\n",
    "        sum=sum*x[i]\n",
    "    return sum\n",
    "list1=[1,2,3]\n",
    "list2=[4,5,6]\n",
    "print(multifly_elmnt(list1))\n",
    "print(multifly_elmnt(list2))"
   ]
  },
  {
   "cell_type": "code",
   "execution_count": null,
   "metadata": {},
   "outputs": [],
   "source": [
    "지역변수 전역변수\n",
    "\n",
    "지역을 전역으로쓰고 싶으면 global 쓰면 됌"
   ]
  },
  {
   "cell_type": "code",
   "execution_count": null,
   "metadata": {},
   "outputs": [],
   "source": [
    "def add(a):\n",
    "    global total\n",
    "    total+=a\n",
    "\n",
    "total=0 \n",
    "\n",
    "for  i in range(1,11):\n",
    "    add(i)\n",
    "print(total)"
   ]
  },
  {
   "cell_type": "code",
   "execution_count": null,
   "metadata": {},
   "outputs": [],
   "source": [
    "def factorial(n):\n",
    "    if n==1:\n",
    "        return 1\n",
    "    else:\n",
    "        return n*factorial(n-1)\n",
    "\n",
    "print(factorial(int(input(\"Input Number for Factorial Calculation:\"))))"
   ]
  },
  {
   "cell_type": "code",
   "execution_count": 11,
   "metadata": {},
   "outputs": [
    {
     "name": "stdout",
     "output_type": "stream",
     "text": [
      "Input is 100\n"
     ]
    }
   ],
   "source": [
    "def test(k):\n",
    "    print(\"Input is\", k)\n",
    "\n",
    "k=100\n",
    "test(k)"
   ]
  },
  {
   "cell_type": "code",
   "execution_count": 17,
   "metadata": {},
   "outputs": [
    {
     "name": "stdout",
     "output_type": "stream",
     "text": [
      "*\n",
      "**\n",
      "***\n",
      "****\n",
      "*****\n"
     ]
    }
   ],
   "source": [
    "star_num= int(input())\n",
    "\n",
    "for i in range(star_num):\n",
    "    print(\"*\"*(i+1))"
   ]
  },
  {
   "cell_type": "code",
   "execution_count": 22,
   "metadata": {},
   "outputs": [
    {
     "name": "stdout",
     "output_type": "stream",
     "text": [
      "Case # 1 : 2\n",
      "Case # 2 : 5\n",
      "Case # 3 : 7\n",
      "Case # 4 : 17\n",
      "Case # 5 : 7\n"
     ]
    }
   ],
   "source": [
    "T= int(input())\n",
    "for i in range(T):\n",
    "    a,b=map(int, input().split())\n",
    "    print(\"Case #\",i+1,\":\",a+b)"
   ]
  },
  {
   "cell_type": "code",
   "execution_count": 4,
   "metadata": {},
   "outputs": [],
   "source": [
    "f=open(\"C:\\\\coding\\\\새파일.txt\",'w')\n",
    "f.close()"
   ]
  },
  {
   "cell_type": "code",
   "execution_count": 6,
   "metadata": {},
   "outputs": [],
   "source": [
    "f = open(\"C:\\\\coding\\\\새파일.txt\", 'w', encoding='utf-8')\n",
    "for i in range(1, 11):\n",
    "    data = \"%d번째 줄입니다.\\n\" % i\n",
    "    f.write(data)\n",
    "f.close()"
   ]
  },
  {
   "cell_type": "code",
   "execution_count": 9,
   "metadata": {},
   "outputs": [
    {
     "name": "stdout",
     "output_type": "stream",
     "text": [
      "1번째 줄입니다.\n",
      "\n"
     ]
    }
   ],
   "source": [
    "f = open(\"C:/coding/새파일.txt\", 'r',encoding='utf-8')\n",
    "line = f.readline()\n",
    "print(line)\n",
    "f.close()"
   ]
  },
  {
   "cell_type": "code",
   "execution_count": 12,
   "metadata": {},
   "outputs": [
    {
     "name": "stdout",
     "output_type": "stream",
     "text": [
      "1번째 줄입니다.\n",
      "\n",
      "2번째 줄입니다.\n",
      "\n",
      "3번째 줄입니다.\n",
      "\n",
      "4번째 줄입니다.\n",
      "\n",
      "5번째 줄입니다.\n",
      "\n",
      "6번째 줄입니다.\n",
      "\n",
      "7번째 줄입니다.\n",
      "\n",
      "8번째 줄입니다.\n",
      "\n",
      "9번째 줄입니다.\n",
      "\n",
      "10번째 줄입니다.\n",
      "\n"
     ]
    }
   ],
   "source": [
    "# readline_all.py\n",
    "f = open(\"C:/coding/새파일.txt\", 'r', encoding=\"utf-8\")\n",
    "while True:\n",
    "    line = f.readline()\n",
    "    if not line: break\n",
    "    print(line)\n",
    "f.close()"
   ]
  },
  {
   "cell_type": "code",
   "execution_count": null,
   "metadata": {},
   "outputs": [
    {
     "name": "stdout",
     "output_type": "stream",
     "text": [
      "1번째 줄입니다.\n",
      "\n",
      "2번째 줄입니다.\n",
      "\n",
      "3번째 줄입니다.\n",
      "\n",
      "4번째 줄입니다.\n",
      "\n",
      "5번째 줄입니다.\n",
      "\n",
      "6번째 줄입니다.\n",
      "\n",
      "7번째 줄입니다.\n",
      "\n",
      "8번째 줄입니다.\n",
      "\n",
      "9번째 줄입니다.\n",
      "\n",
      "10번째 줄입니다.\n",
      "\n"
     ]
    }
   ],
   "source": [
    "# readlines.py\n",
    "#전체를 한줄씩 리스트!!!\n",
    "\n",
    "f = open(\"C:/coding/새파일.txt\", 'r',encoding='utf-8')\n",
    "lines = f.readlines()\n",
    "for line in lines:\n",
    "    print(line)\n",
    "f.close()"
   ]
  },
  {
   "cell_type": "code",
   "execution_count": 17,
   "metadata": {},
   "outputs": [
    {
     "name": "stdout",
     "output_type": "stream",
     "text": [
      "1번째 줄입니다.\n",
      "2번째 줄입니다.\n",
      "3번째 줄입니다.\n",
      "4번째 줄입니다.\n",
      "5번째 줄입니다.\n",
      "6번째 줄입니다.\n",
      "7번째 줄입니다.\n",
      "8번째 줄입니다.\n",
      "9번째 줄입니다.\n",
      "10번째 줄입니다.\n",
      "\n"
     ]
    }
   ],
   "source": [
    "# read.py\n",
    "#문자열로 전체를 다!!\n",
    "f = open(\"C:/coding/새파일.txt\", 'r',encoding='utf-8')\n",
    "data = f.read()\n",
    "print(data)\n",
    "f.close()"
   ]
  },
  {
   "cell_type": "code",
   "execution_count": 19,
   "metadata": {},
   "outputs": [],
   "source": [
    "# add_data.py\n",
    "f = open(\"C:/coding/새파일.txt\",'a', encoding='utf-8')\n",
    "for i in range(11, 20):\n",
    "    data = \"%d번째 줄입니다.\\n\" % i\n",
    "    f.write(data)\n",
    "f.close()"
   ]
  },
  {
   "cell_type": "code",
   "execution_count": null,
   "metadata": {},
   "outputs": [],
   "source": [
    "#연습문제 1\n",
    "#홀짝판별함수\n",
    "def is_odd(number):\n",
    "    if int(number)%2==0:\n",
    "        return True\n",
    "    else:\n",
    "        return False"
   ]
  }
 ],
 "metadata": {
  "kernelspec": {
   "display_name": "Python 3",
   "language": "python",
   "name": "python3"
  },
  "language_info": {
   "codemirror_mode": {
    "name": "ipython",
    "version": 3
   },
   "file_extension": ".py",
   "mimetype": "text/x-python",
   "name": "python",
   "nbconvert_exporter": "python",
   "pygments_lexer": "ipython3",
   "version": "3.13.1"
  }
 },
 "nbformat": 4,
 "nbformat_minor": 2
}
