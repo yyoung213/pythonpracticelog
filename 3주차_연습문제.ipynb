{
 "cells": [
  {
   "cell_type": "markdown",
   "metadata": {},
   "source": [
    "#### 문제 1. 한수 찾기 -> 반드시 한수를 판별하는 함수를 작성하여 문제를 해결하시오 -> 조건: 함수 이름은 is_hansu()로 지정하고, gpt를 사용하지 말고 해결하시기 바랍니다~~~!!!!\n",
    "\n",
    "[문제] 어떤 양의 정수 X의 각 자리가 등차수열을 이룬다면, 그 수를 한수라고 한다. 등차수열은 연속된 두 개의 수의 차이가 일정한 수열을 말한다. N이 주어졌을 때, 1보다 크거나 같고, N보다 작거나 같은 한수의 개수를 출력하는 프로그램을 작성하시오.\n",
    "\n",
    "[입력] 첫째 줄에 1,000보다 작거나 같은 자연수 N이 주어진다.\n",
    "\n",
    "[출력] 첫째 줄에 1보다 크거나 같고, N보다 작거나 같은 한수의 개수를 출력한다."
   ]
  },
  {
   "cell_type": "markdown",
   "metadata": {},
   "source": [
    " [입력]       [출력]\n",
    " 110  ->     99\n",
    "\n",
    " 1    ->     1\n",
    "\n",
    " 210  ->     105\n",
    "\n",
    " 1000 ->     144\n",
    "\n",
    " 500  ->     119 "
   ]
  },
  {
   "cell_type": "markdown",
   "metadata": {},
   "source": [
    "#### 예시 답안"
   ]
  },
  {
   "cell_type": "code",
   "execution_count": null,
   "metadata": {},
   "outputs": [],
   "source": [
    "# 1: 1개 -> 1자리수는 모두 한수\n",
    "# 2: 2개 -> 2자리수는 모두 한수\n",
    "# 세자리수보다 경우를 따져야한다. -> 각 자라수간의 차이가 같은지 확인\n",
    "\n",
    "\n",
    "\n",
    "def is_hansu(n):\n",
    "    n = str(n)\n",
    "    recur_num = len(n)-2\n",
    "    while recur_num > 0:\n",
    "\n",
    "        fir_sec_diff = int(n[0]) - int(n[1])\n",
    "        sec_thi_diff = int(n[1]) - int(n[2])\n",
    "\n",
    "        if fir_sec_diff == sec_thi_diff:\n",
    "            n = n[1:]\n",
    "            recur_num -= 1\n",
    "        else:\n",
    "            recur_num = 9999\n",
    "            break\n",
    "    if recur_num == 0:\n",
    "        return True\n",
    "    else:\n",
    "        return False\n",
    "\n",
    "\n",
    "n = int(input())\n",
    "\n",
    "if n < 100:\n",
    "    print(n)\n",
    "else:\n",
    "    hansu = 99\n",
    "    for i in range(100, n+1):\n",
    "        if is_hansu(i):\n",
    "            hansu += 1\n",
    "    print(hansu)\n"
   ]
  },
  {
   "cell_type": "markdown",
   "metadata": {},
   "source": [
    "#### 2. 알파벳 위치 찾기 -> 반드시 알파벳 위치를 찾는 함수를 만드시오(함수명은 find_first_positions()을 이용하시오,ord()와 index() 내장 함수 사용금지), gpt는 사용 자제 부탁드립니다~~~!!!\n",
    "* 알파벳 소문자로만 이루어진 단어 S가 주어진다. 각각의 알파벳에 대해서, 단어에 포함되어 있는 경우에는 처음 등장하는 위치를, 포함되어 있지 않은 경우에는 -1을 출력하는 프로그램을 작성하시오.\n",
    "\n",
    "[입력]\n",
    "첫째 줄에 단어 S가 주어진다. 단어의 길이는 100을 넘지 않으며, 알파벳 소문자로만 이루어져 있다.\n",
    "\n",
    "[출력]\n",
    "각각의 알파벳에 대해서, a가 처음 등장하는 위치, b가 처음 등장하는 위치, ... z가 처음 등장하는 위치를 공백으로 구분해서 출력한다.\n",
    "\n",
    "만약, 어떤 알파벳이 단어에 포함되어 있지 않다면 -1을 출력한다. 단어의 첫 번째 글자는 0번째 위치이고, 두 번째 글자는 1번째 위치이다."
   ]
  },
  {
   "cell_type": "markdown",
   "metadata": {},
   "source": [
    "[예시]\n",
    "baekjoon\n",
    "\n",
    "[출력]\n",
    "1 0 -1 -1 2 -1 -1 -1 -1 4 3 -1 -1 7 5 -1 -1 -1 -1 -1 -1 -1 -1 -1 -1 -1\n",
    "\n"
   ]
  },
  {
   "cell_type": "markdown",
   "metadata": {},
   "source": [
    "#### 예시 답안"
   ]
  },
  {
   "cell_type": "code",
   "execution_count": 47,
   "metadata": {},
   "outputs": [
    {
     "name": "stdout",
     "output_type": "stream",
     "text": [
      "1 0 -1 -1 2 -1 -1 -1 -1 4 3 -1 -1 7 5 -1 -1 -1 -1 -1 -1 -1 -1 -1 -1 -1 "
     ]
    }
   ],
   "source": [
    "def find_first_positions(S):\n",
    "    alphabet = \"abcdefghijklmnopqrstuvwxyz\"\n",
    "    positions = []\n",
    "\n",
    "    for ch in alphabet:\n",
    "        found = -1\n",
    "        for i in range(len(S)):\n",
    "            if S[i] == ch:\n",
    "                found = i\n",
    "                break\n",
    "        positions.append(found)\n",
    "\n",
    "    return positions\n",
    "\n",
    "\n",
    "# 예시 실행\n",
    "S = input()\n",
    "result = find_first_positions(S)\n",
    "\n",
    "# 출력\n",
    "for pos in result:\n",
    "    print(pos, end=' ')\n"
   ]
  }
 ],
 "metadata": {
  "kernelspec": {
   "display_name": "myenv",
   "language": "python",
   "name": "python3"
  },
  "language_info": {
   "codemirror_mode": {
    "name": "ipython",
    "version": 3
   },
   "file_extension": ".py",
   "mimetype": "text/x-python",
   "name": "python",
   "nbconvert_exporter": "python",
   "pygments_lexer": "ipython3",
   "version": "3.12.9"
  }
 },
 "nbformat": 4,
 "nbformat_minor": 2
}
