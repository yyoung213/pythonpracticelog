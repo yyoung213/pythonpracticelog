{
 "cells": [
  {
   "cell_type": "code",
   "execution_count": null,
   "metadata": {
    "colab": {
     "base_uri": "https://localhost:8080/"
    },
    "executionInfo": {
     "elapsed": 3,
     "status": "ok",
     "timestamp": 1664335288735,
     "user": {
      "displayName": "김민섭",
      "userId": "02717638383820753580"
     },
     "user_tz": -540
    },
    "id": "ffcn7YdxDIKx",
    "outputId": "e8adbdc4-0d2d-4055-f953-82b3e373b524"
   },
   "outputs": [
    {
     "name": "stdout",
     "output_type": "stream",
     "text": [
      "총합:  183\n",
      "평균:  36.6\n"
     ]
    }
   ],
   "source": [
    "math=[50,35,20,38,40]\n",
    "sum=0\n",
    "for i in math:\n",
    "    sum+=i\n",
    "print('총합: ',sum)    \n",
    "avg=(sum/len(math))\n",
    "print('평균: ',avg)"
   ]
  },
  {
   "cell_type": "code",
   "execution_count": null,
   "metadata": {
    "colab": {
     "base_uri": "https://localhost:8080/"
    },
    "executionInfo": {
     "elapsed": 387,
     "status": "ok",
     "timestamp": 1664335652974,
     "user": {
      "displayName": "김민섭",
      "userId": "02717638383820753580"
     },
     "user_tz": -540
    },
    "id": "fVf8bQlmIAVk",
    "outputId": "86ed5aac-ea62-4a84-8908-8d70e160456e"
   },
   "outputs": [
    {
     "name": "stdout",
     "output_type": "stream",
     "text": [
      "183\n",
      "36.6\n"
     ]
    }
   ],
   "source": [
    "math=[50,35,20,38,40]\n",
    "sum=0\n",
    "for i in range(len(math)):\n",
    "    sum=sum+math[i]\n",
    "print(sum)\n",
    "print(sum/len(math))"
   ]
  },
  {
   "cell_type": "markdown",
   "metadata": {
    "id": "3yyjMjMwJaGv"
   },
   "source": [
    "while은 어떤 조건이 만족하느 동안 명령 블록을 수행하고 해당 조건이 거짓일 경우에는 더는 명령을 수행하지 않는구문이다"
   ]
  },
  {
   "cell_type": "code",
   "execution_count": null,
   "metadata": {
    "colab": {
     "base_uri": "https://localhost:8080/"
    },
    "executionInfo": {
     "elapsed": 414,
     "status": "ok",
     "timestamp": 1664335938462,
     "user": {
      "displayName": "김민섭",
      "userId": "02717638383820753580"
     },
     "user_tz": -540
    },
    "id": "FCvSuwCRJjn9",
    "outputId": "0ce8738c-4d9d-4e54-e6f0-264b6b5e3486"
   },
   "outputs": [
    {
     "name": "stdout",
     "output_type": "stream",
     "text": [
      "1\n",
      "2\n",
      "3\n",
      "4\n",
      "5\n",
      "6\n",
      "7\n",
      "8\n",
      "9\n"
     ]
    }
   ],
   "source": [
    "i=1\n",
    "while i<10:\n",
    "    print(i)\n",
    "    i+=1"
   ]
  },
  {
   "cell_type": "code",
   "execution_count": null,
   "metadata": {
    "colab": {
     "base_uri": "https://localhost:8080/"
    },
    "executionInfo": {
     "elapsed": 414,
     "status": "ok",
     "timestamp": 1664336166504,
     "user": {
      "displayName": "김민섭",
      "userId": "02717638383820753580"
     },
     "user_tz": -540
    },
    "id": "OOQT8AD9KZ8a",
    "outputId": "400b4652-0e4b-4754-e152-a1fbabdb76c1"
   },
   "outputs": [
    {
     "name": "stdout",
     "output_type": "stream",
     "text": [
      "0\n",
      "1\n",
      "2\n",
      "3\n",
      "4\n",
      "End of Program\n"
     ]
    }
   ],
   "source": [
    "for i in range(10):\n",
    "    if i==5:break\n",
    "    print(i)\n",
    "print(\"End of Program\")"
   ]
  },
  {
   "cell_type": "code",
   "execution_count": null,
   "metadata": {
    "colab": {
     "base_uri": "https://localhost:8080/"
    },
    "executionInfo": {
     "elapsed": 328,
     "status": "ok",
     "timestamp": 1664336249063,
     "user": {
      "displayName": "김민섭",
      "userId": "02717638383820753580"
     },
     "user_tz": -540
    },
    "id": "PHifid9jK1xG",
    "outputId": "196760d3-a3ca-44d3-deff-b686c0818469"
   },
   "outputs": [
    {
     "name": "stdout",
     "output_type": "stream",
     "text": [
      "0\n",
      "1\n",
      "2\n",
      "3\n",
      "4\n",
      "6\n",
      "7\n",
      "8\n",
      "9\n",
      "End of Program\n"
     ]
    }
   ],
   "source": [
    "for i in range(10):\n",
    "    if i==5:continue  #5만 빠지고 나머지 명령문 수행\n",
    "    print(i)\n",
    "print(\"End of Program\")"
   ]
  },
  {
   "cell_type": "code",
   "execution_count": null,
   "metadata": {
    "colab": {
     "base_uri": "https://localhost:8080/"
    },
    "executionInfo": {
     "elapsed": 331,
     "status": "ok",
     "timestamp": 1664336458753,
     "user": {
      "displayName": "김민섭",
      "userId": "02717638383820753580"
     },
     "user_tz": -540
    },
    "id": "8wbd7gpTLabV",
    "outputId": "16481276-f30f-4ed6-ba94-cd8e47c2deee"
   },
   "outputs": [
    {
     "name": "stdout",
     "output_type": "stream",
     "text": [
      "0\n",
      "1\n",
      "2\n",
      "3\n",
      "4\n",
      "6\n",
      "7\n",
      "8\n",
      "9\n",
      "End of Program\n"
     ]
    }
   ],
   "source": [
    "for i in range(10):\n",
    "    if i==5:continue   #break랑 바꿔서 해보기\n",
    "    print(i)\n",
    "else:   #else는 어떤 조건이 완전히 끝났을깨 한번더 실행해주는 역할을 한다\n",
    "    print(\"End of Program\")"
   ]
  },
  {
   "cell_type": "code",
   "execution_count": null,
   "metadata": {
    "colab": {
     "base_uri": "https://localhost:8080/"
    },
    "executionInfo": {
     "elapsed": 4,
     "status": "ok",
     "timestamp": 1664336736410,
     "user": {
      "displayName": "김민섭",
      "userId": "02717638383820753580"
     },
     "user_tz": -540
    },
    "id": "0AImsyjOMY4E",
    "outputId": "ac9bc510-d41e-43e4-856a-fa222ac8604b"
   },
   "outputs": [
    {
     "name": "stdout",
     "output_type": "stream",
     "text": [
      "1\n",
      "2\n",
      "3\n",
      "4\n",
      "6\n",
      "7\n",
      "8\n",
      "9\n",
      "10\n",
      "프로그램 종료\n"
     ]
    }
   ],
   "source": [
    "cnt=0\n",
    "\n",
    "while cnt<10:\n",
    "    cnt += 1\n",
    "    if cnt==5:continue\n",
    "    print(cnt)\n",
    "else:\n",
    "    print('프로그램 종료')"
   ]
  },
  {
   "cell_type": "code",
   "execution_count": null,
   "metadata": {
    "colab": {
     "base_uri": "https://localhost:8080/"
    },
    "executionInfo": {
     "elapsed": 459,
     "status": "ok",
     "timestamp": 1664336732067,
     "user": {
      "displayName": "김민섭",
      "userId": "02717638383820753580"
     },
     "user_tz": -540
    },
    "id": "ElK42KBKMn_i",
    "outputId": "0391aa69-2b3b-412b-9eb8-dfc643603d72"
   },
   "outputs": [
    {
     "name": "stdout",
     "output_type": "stream",
     "text": [
      "1\n",
      "2\n",
      "3\n",
      "4\n"
     ]
    }
   ],
   "source": [
    "cnt=0\n",
    "\n",
    "while cnt<10:\n",
    "    cnt += 1\n",
    "    if cnt==5:break\n",
    "    print(cnt)\n",
    "else:\n",
    "    print('프로그램 종료')"
   ]
  },
  {
   "cell_type": "code",
   "execution_count": null,
   "metadata": {
    "colab": {
     "base_uri": "https://localhost:8080/"
    },
    "executionInfo": {
     "elapsed": 10876,
     "status": "ok",
     "timestamp": 1664939459133,
     "user": {
      "displayName": "김민섭",
      "userId": "02717638383820753580"
     },
     "user_tz": -540
    },
    "id": "HZn8kAzRM5uG",
    "outputId": "1c999de9-a11e-49bb-dc35-b5ecdb244d6b"
   },
   "outputs": [
    {
     "name": "stdout",
     "output_type": "stream",
     "text": [
      "구구단 몇단을 계산할까요? >>3\n",
      "구구단 3 단을 계산합니다\n",
      "3 x 1 = 3\n",
      "3 x 2 = 6\n",
      "3 x 3 = 9\n",
      "3 x 4 = 12\n",
      "3 x 5 = 15\n",
      "3 x 6 = 18\n",
      "3 x 7 = 21\n",
      "3 x 8 = 24\n",
      "3 x 9 = 27\n",
      "구구단 몇단을 계산할까요? >>q\n",
      "구구단 q 단을 계산합니다\n",
      "구구단을 종료합니다\n"
     ]
    }
   ],
   "source": [
    "while True: \n",
    "    a=input(\"구구단 몇단을 계산할까요? >>\")\n",
    "    print('구구단', a ,'단을 계산합니다')\n",
    "    if a=='q' or a =='Q':break\n",
    "    i=0 \n",
    "    while i<9:   \n",
    "        i+=1\n",
    "        print(a,\"x\",i,\"=\",int(a)*i)\n",
    "print('구구단을 종료합니다')"
   ]
  },
  {
   "cell_type": "code",
   "execution_count": null,
   "metadata": {
    "colab": {
     "base_uri": "https://localhost:8080/"
    },
    "executionInfo": {
     "elapsed": 6022,
     "status": "ok",
     "timestamp": 1664939442439,
     "user": {
      "displayName": "김민섭",
      "userId": "02717638383820753580"
     },
     "user_tz": -540
    },
    "id": "Quiuj_Q9HVbo",
    "outputId": "6375751e-5c58-4e1d-972b-0b620a7ae66c"
   },
   "outputs": [
    {
     "name": "stdout",
     "output_type": "stream",
     "text": [
      "구구단 몇단을 계산할까요? >>3\n",
      "구구단3단을 계산합니다.\n",
      "3 X 1 = 3\n",
      "3 X 2 = 6\n",
      "3 X 3 = 9\n",
      "3 X 4 = 12\n",
      "3 X 5 = 15\n",
      "3 X 6 = 18\n",
      "3 X 7 = 21\n",
      "3 X 8 = 24\n",
      "3 X 9 = 27\n",
      "구구단 몇단을 계산할까요? >>5\n",
      "구구단5단을 계산합니다.\n",
      "5 X 1 = 5\n",
      "5 X 2 = 10\n",
      "5 X 3 = 15\n",
      "5 X 4 = 20\n",
      "5 X 5 = 25\n",
      "5 X 6 = 30\n",
      "5 X 7 = 35\n",
      "5 X 8 = 40\n",
      "5 X 9 = 45\n",
      "구구단 몇단을 계산할까요? >>q\n",
      "구구단을 종료합니다.\n"
     ]
    }
   ],
   "source": [
    "while True:\n",
    "    step=input('구구단 몇단을 계산할까요? >>')\n",
    "    if step in ['q','Q']: print('구구단을 종료합니다.');break\n",
    "\n",
    "    print('구구단'+step+'단을 계산합니다.')\n",
    "    step=int(step)\n",
    "\n",
    "    for i in range(1,10):\n",
    "        print(step,'X',i,'=',step*i)"
   ]
  },
  {
   "cell_type": "code",
   "execution_count": null,
   "metadata": {
    "colab": {
     "base_uri": "https://localhost:8080/",
     "height": 486
    },
    "executionInfo": {
     "elapsed": 9465,
     "status": "error",
     "timestamp": 1666712734177,
     "user": {
      "displayName": "김민섭",
      "userId": "02717638383820753580"
     },
     "user_tz": -540
    },
    "id": "F1_hneU_IYlu",
    "outputId": "aa56a556-4933-4fab-d0bf-8542472eab3a"
   },
   "outputs": [
    {
     "name": "stdout",
     "output_type": "stream",
     "text": [
      "구구단 몇단을 도전하시겠습니까?4\n",
      "4 X 8 >>\n",
      "32\n",
      "정답이 아닙니다. 다시 도전하세요\n",
      "4 X 8 >>\n"
     ]
    },
    {
     "ename": "KeyboardInterrupt",
     "evalue": "ignored",
     "output_type": "error",
     "traceback": [
      "\u001b[0;31m---------------------------------------------------------------------------\u001b[0m",
      "\u001b[0;31mKeyboardInterrupt\u001b[0m                         Traceback (most recent call last)",
      "\u001b[0;32m<ipython-input-1-128abd4af13b>\u001b[0m in \u001b[0;36m<module>\u001b[0;34m\u001b[0m\n\u001b[1;32m      6\u001b[0m     \u001b[0;32mwhile\u001b[0m \u001b[0;32mTrue\u001b[0m\u001b[0;34m:\u001b[0m\u001b[0;34m\u001b[0m\u001b[0;34m\u001b[0m\u001b[0m\n\u001b[1;32m      7\u001b[0m         \u001b[0mprint\u001b[0m\u001b[0;34m(\u001b[0m\u001b[0mstep\u001b[0m\u001b[0;34m,\u001b[0m\u001b[0;34m'X'\u001b[0m\u001b[0;34m,\u001b[0m\u001b[0mnum\u001b[0m\u001b[0;34m,\u001b[0m\u001b[0;34m'>>'\u001b[0m\u001b[0;34m)\u001b[0m\u001b[0;34m\u001b[0m\u001b[0;34m\u001b[0m\u001b[0m\n\u001b[0;32m----> 8\u001b[0;31m         \u001b[0manswer\u001b[0m\u001b[0;34m=\u001b[0m\u001b[0minput\u001b[0m\u001b[0;34m(\u001b[0m\u001b[0;34m)\u001b[0m\u001b[0;34m\u001b[0m\u001b[0;34m\u001b[0m\u001b[0m\n\u001b[0m\u001b[1;32m      9\u001b[0m         \u001b[0;32mif\u001b[0m \u001b[0manswer\u001b[0m\u001b[0;34m!=\u001b[0m\u001b[0mnum\u001b[0m\u001b[0;34m*\u001b[0m\u001b[0mstep\u001b[0m\u001b[0;34m:\u001b[0m\u001b[0;34m\u001b[0m\u001b[0;34m\u001b[0m\u001b[0m\n\u001b[1;32m     10\u001b[0m             \u001b[0mprint\u001b[0m\u001b[0;34m(\u001b[0m\u001b[0;34m'정답이 아닙니다. 다시 도전하세요'\u001b[0m\u001b[0;34m)\u001b[0m\u001b[0;34m\u001b[0m\u001b[0;34m\u001b[0m\u001b[0m\n",
      "\u001b[0;32m/usr/local/lib/python3.7/dist-packages/ipykernel/kernelbase.py\u001b[0m in \u001b[0;36mraw_input\u001b[0;34m(self, prompt)\u001b[0m\n\u001b[1;32m    861\u001b[0m             \u001b[0mself\u001b[0m\u001b[0;34m.\u001b[0m\u001b[0m_parent_ident\u001b[0m\u001b[0;34m,\u001b[0m\u001b[0;34m\u001b[0m\u001b[0;34m\u001b[0m\u001b[0m\n\u001b[1;32m    862\u001b[0m             \u001b[0mself\u001b[0m\u001b[0;34m.\u001b[0m\u001b[0m_parent_header\u001b[0m\u001b[0;34m,\u001b[0m\u001b[0;34m\u001b[0m\u001b[0;34m\u001b[0m\u001b[0m\n\u001b[0;32m--> 863\u001b[0;31m             \u001b[0mpassword\u001b[0m\u001b[0;34m=\u001b[0m\u001b[0;32mFalse\u001b[0m\u001b[0;34m,\u001b[0m\u001b[0;34m\u001b[0m\u001b[0;34m\u001b[0m\u001b[0m\n\u001b[0m\u001b[1;32m    864\u001b[0m         )\n\u001b[1;32m    865\u001b[0m \u001b[0;34m\u001b[0m\u001b[0m\n",
      "\u001b[0;32m/usr/local/lib/python3.7/dist-packages/ipykernel/kernelbase.py\u001b[0m in \u001b[0;36m_input_request\u001b[0;34m(self, prompt, ident, parent, password)\u001b[0m\n\u001b[1;32m    902\u001b[0m             \u001b[0;32mexcept\u001b[0m \u001b[0mKeyboardInterrupt\u001b[0m\u001b[0;34m:\u001b[0m\u001b[0;34m\u001b[0m\u001b[0;34m\u001b[0m\u001b[0m\n\u001b[1;32m    903\u001b[0m                 \u001b[0;31m# re-raise KeyboardInterrupt, to truncate traceback\u001b[0m\u001b[0;34m\u001b[0m\u001b[0;34m\u001b[0m\u001b[0;34m\u001b[0m\u001b[0m\n\u001b[0;32m--> 904\u001b[0;31m                 \u001b[0;32mraise\u001b[0m \u001b[0mKeyboardInterrupt\u001b[0m\u001b[0;34m(\u001b[0m\u001b[0;34m\"Interrupted by user\"\u001b[0m\u001b[0;34m)\u001b[0m \u001b[0;32mfrom\u001b[0m \u001b[0;32mNone\u001b[0m\u001b[0;34m\u001b[0m\u001b[0;34m\u001b[0m\u001b[0m\n\u001b[0m\u001b[1;32m    905\u001b[0m             \u001b[0;32mexcept\u001b[0m \u001b[0mException\u001b[0m \u001b[0;32mas\u001b[0m \u001b[0me\u001b[0m\u001b[0;34m:\u001b[0m\u001b[0;34m\u001b[0m\u001b[0;34m\u001b[0m\u001b[0m\n\u001b[1;32m    906\u001b[0m                 \u001b[0mself\u001b[0m\u001b[0;34m.\u001b[0m\u001b[0mlog\u001b[0m\u001b[0;34m.\u001b[0m\u001b[0mwarning\u001b[0m\u001b[0;34m(\u001b[0m\u001b[0;34m\"Invalid Message:\"\u001b[0m\u001b[0;34m,\u001b[0m \u001b[0mexc_info\u001b[0m\u001b[0;34m=\u001b[0m\u001b[0;32mTrue\u001b[0m\u001b[0;34m)\u001b[0m\u001b[0;34m\u001b[0m\u001b[0;34m\u001b[0m\u001b[0m\n",
      "\u001b[0;31mKeyboardInterrupt\u001b[0m: Interrupted by user"
     ]
    }
   ],
   "source": [
    "import random as rd\n",
    "while True:\n",
    "    step=input('구구단 몇단을 도전하시겠습니까?')\n",
    "    num=rd.choice(range(1,10))\n",
    "    if step in ['q','Q']: print('--- 구구단을 종료합니다. ---');break\n",
    "    while True:\n",
    "        print(step,'X',num,'>>')\n",
    "        answer=input()\n",
    "        if answer!=num*step:\n",
    "            print('정답이 아닙니다. 다시 도전하세요')\n",
    "        else:\n",
    "            print('정답입니다!')\n",
    "            break\n",
    "\n"
   ]
  }
 ],
 "metadata": {
  "colab": {
   "authorship_tag": "ABX9TyMDKrpTY891OgTX6U0ctHux",
   "provenance": []
  },
  "kernelspec": {
   "display_name": "Python 3",
   "name": "python3"
  },
  "language_info": {
   "name": "python",
   "version": "3.13.1"
  }
 },
 "nbformat": 4,
 "nbformat_minor": 0
}
