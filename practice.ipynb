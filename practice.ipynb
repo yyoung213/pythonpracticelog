{
 "cells": [
  {
   "cell_type": "markdown",
   "metadata": {},
   "source": [
    "두 정수 A와 B를 입력받은 다음, A+B를 출력하는 프로그램을 작성하시오.\n",
    "\n",
    "첫째 줄에 A와 B가 주어진다. (0 < A, B < 10)"
   ]
  },
  {
   "cell_type": "code",
   "execution_count": 1,
   "metadata": {},
   "outputs": [
    {
     "name": "stdout",
     "output_type": "stream",
     "text": [
      "a+b\n",
      "10\n"
     ]
    }
   ],
   "source": [
    "a=7\n",
    "b=3\n",
    "print(\"a+b\")\n",
    "print(a+b)"
   ]
  },
  {
   "cell_type": "code",
   "execution_count": 3,
   "metadata": {},
   "outputs": [
    {
     "name": "stdout",
     "output_type": "stream",
     "text": [
      "2\n",
      "0\n"
     ]
    }
   ],
   "source": [
    "#정수형 실수형 문자형 논리형\n",
    "\n",
    "data=1\n",
    "data=1.0\n",
    "data=\"1\"\n",
    "data=True\n",
    "\n",
    "#증가연산 감소연산\n",
    "\n",
    "a = 1\n",
    "a += 1\n",
    "print(a)\n",
    "\n",
    "a=1\n",
    "a-=1\n",
    "print(a)\n",
    "\n",
    "#정수 실수 변환\n",
    "float() 함수\n",
    "int() 함수\n",
    "\n",
    "#자료형 확인하기\n",
    "type() 함수\n"
   ]
  },
  {
   "cell_type": "code",
   "execution_count": 4,
   "metadata": {},
   "outputs": [
    {
     "name": "stdout",
     "output_type": "stream",
     "text": [
      "섭씨온도: 16.0 화씨온도: 60.8\n"
     ]
    }
   ],
   "source": [
    "celcius= float(input(\"섭씨온도를 입력하세요\"))\n",
    "fahrenheit=((9/5)*celcius)+32\n",
    "print(\"섭씨온도:\", celcius, \"화씨온도:\", fahrenheit)"
   ]
  },
  {
   "cell_type": "code",
   "execution_count": 7,
   "metadata": {},
   "outputs": [
    {
     "name": "stdout",
     "output_type": "stream",
     "text": [
      "30010.5\n"
     ]
    }
   ],
   "source": [
    "a=10\n",
    "b=30\n",
    "c=10.5\n",
    "print(str(a*b) + str(c))"
   ]
  }
 ],
 "metadata": {
  "kernelspec": {
   "display_name": "Python 3",
   "language": "python",
   "name": "python3"
  },
  "language_info": {
   "codemirror_mode": {
    "name": "ipython",
    "version": 3
   },
   "file_extension": ".py",
   "mimetype": "text/x-python",
   "name": "python",
   "nbconvert_exporter": "python",
   "pygments_lexer": "ipython3",
   "version": "3.13.1"
  }
 },
 "nbformat": 4,
 "nbformat_minor": 2
}
