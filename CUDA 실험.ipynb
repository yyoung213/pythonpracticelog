{
 "cells": [
  {
   "cell_type": "code",
   "execution_count": null,
   "metadata": {},
   "outputs": [
    {
     "ename": "ModuleNotFoundError",
     "evalue": "No module named 'numpy'",
     "output_type": "error",
     "traceback": [
      "\u001b[1;31m---------------------------------------------------------------------------\u001b[0m",
      "\u001b[1;31mModuleNotFoundError\u001b[0m                       Traceback (most recent call last)",
      "Cell \u001b[1;32mIn[4], line 1\u001b[0m\n\u001b[1;32m----> 1\u001b[0m \u001b[38;5;28;01mimport\u001b[39;00m \u001b[38;5;21;01mnumpy\u001b[39;00m \u001b[38;5;28;01mas\u001b[39;00m \u001b[38;5;21;01mnp\u001b[39;00m\n\u001b[0;32m      2\u001b[0m \u001b[38;5;28;01mimport\u001b[39;00m \u001b[38;5;21;01mcupy\u001b[39;00m \u001b[38;5;28;01mas\u001b[39;00m \u001b[38;5;21;01mcp\u001b[39;00m\n\u001b[0;32m      3\u001b[0m \u001b[38;5;28mprint\u001b[39m(\u001b[38;5;124m\"\u001b[39m\u001b[38;5;124m설치 완료!\u001b[39m\u001b[38;5;124m\"\u001b[39m)\n",
      "\u001b[1;31mModuleNotFoundError\u001b[0m: No module named 'numpy'"
     ]
    }
   ],
   "source": [
    "import numpy as np\n",
    "import cupy as cp\n",
    "print(\"설치 완료!\")\n",
    "\n"
   ]
  },
  {
   "cell_type": "code",
   "execution_count": 6,
   "metadata": {},
   "outputs": [
    {
     "name": "stdout",
     "output_type": "stream",
     "text": [
      "CPU 계산 시간: 0.012505초\n",
      "GPU 계산 시간: 0.001002초\n",
      "CPU 결과 일부: [ 0.  1.  4.  9. 16.]\n",
      "GPU 결과 일부: [ 0.  1.  4.  9. 16.]\n"
     ]
    }
   ],
   "source": [
    "import numpy as np\n",
    "import cupy as cp\n",
    "import time\n",
    "\n",
    "N = 10_000_000  # 천만 개의 원소\n",
    "\n",
    "# --- CPU 연산 ---\n",
    "a_cpu = np.arange(N, dtype=np.float32)\n",
    "start_cpu = time.time()\n",
    "a_cpu_squared = a_cpu ** 2\n",
    "end_cpu = time.time()\n",
    "\n",
    "# --- GPU 연산 ---\n",
    "a_gpu = cp.arange(N, dtype=cp.float32)\n",
    "cp.cuda.Device(0).synchronize()  # GPU 타이머 정확하게 측정\n",
    "start_gpu = time.time()\n",
    "a_gpu_squared = a_gpu ** 2\n",
    "cp.cuda.Device(0).synchronize()\n",
    "end_gpu = time.time()\n",
    "\n",
    "# --- 결과 출력 ---\n",
    "print(f\"CPU 계산 시간: {end_cpu - start_cpu:.6f}초\")\n",
    "print(f\"GPU 계산 시간: {end_gpu - start_gpu:.6f}초\")\n",
    "\n",
    "# 계산 결과도 살짝 확인\n",
    "print(\"CPU 결과 일부:\", a_cpu_squared[:5])\n",
    "print(\"GPU 결과 일부:\", a_gpu_squared[:5].get())\n",
    "\n",
    "\n",
    "\n"
   ]
  }
 ],
 "metadata": {
  "kernelspec": {
   "display_name": "Python 3",
   "language": "python",
   "name": "python3"
  },
  "language_info": {
   "codemirror_mode": {
    "name": "ipython",
    "version": 3
   },
   "file_extension": ".py",
   "mimetype": "text/x-python",
   "name": "python",
   "nbconvert_exporter": "python",
   "pygments_lexer": "ipython3",
   "version": "3.13.1"
  }
 },
 "nbformat": 4,
 "nbformat_minor": 2
}
