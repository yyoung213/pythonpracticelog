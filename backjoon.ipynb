{
 "cells": [
  {
   "cell_type": "code",
   "execution_count": 3,
   "metadata": {},
   "outputs": [
    {
     "name": "stdout",
     "output_type": "stream",
     "text": [
      "3\n"
     ]
    }
   ],
   "source": [
    "#A+B\n",
    "\n",
    "number=input().split()\n",
    "print(int(number[0])+int(number[1]))"
   ]
  },
  {
   "cell_type": "code",
   "execution_count": null,
   "metadata": {},
   "outputs": [],
   "source": [
    "#A-B\n",
    "\n",
    "number=input().split()\n",
    "print(int(number[0])-int(number[1]))"
   ]
  },
  {
   "cell_type": "code",
   "execution_count": null,
   "metadata": {},
   "outputs": [],
   "source": [
    "#AxB\n",
    "\n",
    "number=input().split()\n",
    "print(int(number[0])*int(number[1]))"
   ]
  },
  {
   "cell_type": "code",
   "execution_count": null,
   "metadata": {},
   "outputs": [],
   "source": [
    "#A%B\n",
    "\n",
    "number=input().split()\n",
    "print(int(number[0])/int(number[1]))"
   ]
  },
  {
   "cell_type": "code",
   "execution_count": 5,
   "metadata": {},
   "outputs": [
    {
     "name": "stdout",
     "output_type": "stream",
     "text": [
      "10\n",
      "4\n",
      "21\n",
      "2\n",
      "1\n"
     ]
    }
   ],
   "source": [
    "#사칙연산\n",
    "\n",
    "number=input().split()\n",
    "print(int(number[0])+int(number[1]))\n",
    "print(int(number[0])-int(number[1]))\n",
    "print(int(number[0])*int(number[1]))\n",
    "print(int(number[0])//int(number[1]))\n",
    "print(int(number[0])%int(number[1]))"
   ]
  },
  {
   "cell_type": "code",
   "execution_count": 7,
   "metadata": {},
   "outputs": [
    {
     "name": "stdout",
     "output_type": "stream",
     "text": [
      "joonas??!\n"
     ]
    }
   ],
   "source": [
    "#??!\n",
    "\n",
    "print(\"%s??!\"%(input()))"
   ]
  },
  {
   "cell_type": "code",
   "execution_count": 8,
   "metadata": {},
   "outputs": [
    {
     "name": "stdout",
     "output_type": "stream",
     "text": [
      "1998\n"
     ]
    }
   ],
   "source": [
    "#1998년생인 내가 태국에서는 2541년생?!\n",
    "\n",
    "print(int(input())-543)"
   ]
  },
  {
   "cell_type": "code",
   "execution_count": 9,
   "metadata": {},
   "outputs": [
    {
     "name": "stdout",
     "output_type": "stream",
     "text": [
      "1\n",
      "1\n",
      "0\n",
      "0\n"
     ]
    }
   ],
   "source": [
    "#나머지\n",
    "\n",
    "number=input().split()\n",
    "\n",
    "print((int(number[0])+int(number[1]))%int(number[2]))\n",
    "print(((int(number[0])%int(number[2]))+(int(number[1])%int(number[2])))%int(number[2]))\n",
    "print((int(number[0])*int(number[1]))%int(number[2]))\n",
    "print(((int(number[0])%int(number[2]))*(int(number[1])%int(number[2])))%int(number[2]))"
   ]
  },
  {
   "cell_type": "code",
   "execution_count": null,
   "metadata": {},
   "outputs": [
    {
     "name": "stdout",
     "output_type": "stream",
     "text": [
      "2360\n",
      "3776\n",
      "1416\n",
      "181720\n"
     ]
    }
   ],
   "source": [
    "#곱셈셈\n",
    "number1=input()\n",
    "number2=input()\n",
    "number2list=list(number2)\n",
    "\n",
    "print(int(number1)*int(number2list[2]))\n",
    "print(int(number1)*int(number2list[1]))\n",
    "print(int(number1)*int(number2list[0]))\n",
    "print(int(number1)*int(number2))"
   ]
  },
  {
   "cell_type": "code",
   "execution_count": 16,
   "metadata": {},
   "outputs": [
    {
     "name": "stdout",
     "output_type": "stream",
     "text": [
      "861\n"
     ]
    }
   ],
   "source": [
    "#꼬마 정민\n",
    "\n",
    "number=input().split(' ')\n",
    "print(int(number[0])+int(number[1])+int(number[2]))"
   ]
  },
  {
   "cell_type": "code",
   "execution_count": 23,
   "metadata": {},
   "outputs": [
    {
     "name": "stdout",
     "output_type": "stream",
     "text": [
      "==\n"
     ]
    }
   ],
   "source": [
    "#두 수 비교하기\n",
    "\n",
    "number=input().split(' ')\n",
    "if int(number[0])>int(number[1]):\n",
    "    print(\">\")\n",
    "elif int(number[0])<int(number[1]):\n",
    "    print(\"<\")\n",
    "else:\n",
    "    print(\"==\")"
   ]
  },
  {
   "cell_type": "code",
   "execution_count": 24,
   "metadata": {},
   "outputs": [
    {
     "name": "stdout",
     "output_type": "stream",
     "text": [
      "D\n"
     ]
    }
   ],
   "source": [
    "#시험성적적\n",
    "\n",
    "score=int(input())\n",
    "\n",
    "if score >=90:\n",
    "    grade=\"A\"\n",
    "elif score >=80:\n",
    "    grade=\"B\"\n",
    "elif score >=70:\n",
    "    grade=\"C\"\n",
    "elif score >=60:\n",
    "    grade=\"D\"\n",
    "else:\n",
    "    grade=\"F\"\n",
    "\n",
    "print(grade)"
   ]
  },
  {
   "cell_type": "code",
   "execution_count": 28,
   "metadata": {},
   "outputs": [
    {
     "name": "stdout",
     "output_type": "stream",
     "text": [
      "1\n"
     ]
    }
   ],
   "source": [
    "#윤년\n",
    "\n",
    "yoon_year=int(input())\n",
    "\n",
    "if yoon_year%4==0 and yoon_year%100!=0:\n",
    "    print('1')\n",
    "elif yoon_year%400==0:\n",
    "    print('1')\n",
    "else:\n",
    "    print('0')"
   ]
  },
  {
   "cell_type": "code",
   "execution_count": 32,
   "metadata": {},
   "outputs": [
    {
     "name": "stdout",
     "output_type": "stream",
     "text": [
      "4\n"
     ]
    }
   ],
   "source": [
    "#사분면 고르기\n",
    "\n",
    "x_point=int(input())\n",
    "y_point=int(input())\n",
    "\n",
    "if x_point>0:\n",
    "    if y_point>0:\n",
    "        print('1')\n",
    "    else:\n",
    "        print('4')\n",
    "else:\n",
    "    if y_point>0:\n",
    "        print('2')\n",
    "    else:\n",
    "        print('3')"
   ]
  },
  {
   "cell_type": "code",
   "execution_count": 35,
   "metadata": {},
   "outputs": [
    {
     "name": "stdout",
     "output_type": "stream",
     "text": [
      "22 55\n"
     ]
    }
   ],
   "source": [
    "#알람 시계 \n",
    "\n",
    "time=input().split(' ')\n",
    "\n",
    "if int(time[1])>=45:\n",
    "    print(time[0],int(time[1])-45)\n",
    "else:\n",
    "    if int(time[0])==0:\n",
    "        print('23',int(time[1])+15)\n",
    "    else:\n",
    "        print(int(time[0])-1, int(time[1])+15)"
   ]
  },
  {
   "cell_type": "code",
   "execution_count": null,
   "metadata": {},
   "outputs": [
    {
     "name": "stdout",
     "output_type": "stream",
     "text": [
      "19 40\n"
     ]
    }
   ],
   "source": [
    "#오븐시계계\n",
    "H, M = map(int, input().split())\n",
    "timer = int(input()) \n",
    "\n",
    "H += timer // 60\n",
    "M += timer % 60\n",
    "\n",
    "if M >= 60:\n",
    "    H += 1\n",
    "    M -= 60\n",
    "if H >= 24:\n",
    "    H -= 24\n",
    "\n",
    "print(H,M)"
   ]
  },
  {
   "cell_type": "code",
   "execution_count": null,
   "metadata": {},
   "outputs": [],
   "source": [
    "#주사위 3개\n",
    "\n",
    "a, b, c = map(int,input().split())\n",
    "\n",
    "if a == b == c:\n",
    "    print(10000+a*1000)\n",
    "elif a == b or a == c:\n",
    "    print(1000+a*100)\n",
    "elif b == c:\n",
    "    print(1000+b*100)\n",
    "else:\n",
    "    print(max(a,b,c)*100)"
   ]
  },
  {
   "cell_type": "code",
   "execution_count": 4,
   "metadata": {},
   "outputs": [
    {
     "name": "stdout",
     "output_type": "stream",
     "text": [
      "91\n"
     ]
    }
   ],
   "source": [
    "#저작권\n",
    "\n",
    "A_I=input().split()\n",
    "\n",
    "print(int(A_I[0])*(int(A_I[1])-1)+1)"
   ]
  },
  {
   "cell_type": "code",
   "execution_count": 15,
   "metadata": {},
   "outputs": [
    {
     "name": "stdout",
     "output_type": "stream",
     "text": [
      "2 * 1 = 2\n",
      "2 * 2 = 4\n",
      "2 * 3 = 6\n",
      "2 * 4 = 8\n",
      "2 * 5 = 10\n",
      "2 * 6 = 12\n",
      "2 * 7 = 14\n",
      "2 * 8 = 16\n",
      "2 * 9 = 18\n"
     ]
    }
   ],
   "source": [
    "#구구단\n",
    "number=input()\n",
    "for i in range(9):\n",
    "    print(\"%s * %s = %s\" %(number,int(i)+1,int(number)*(int(i)+1)))"
   ]
  },
  {
   "cell_type": "code",
   "execution_count": 22,
   "metadata": {},
   "outputs": [
    {
     "name": "stdout",
     "output_type": "stream",
     "text": [
      "6\n"
     ]
    }
   ],
   "source": [
    "#합\n",
    "\n",
    "a=0\n",
    "number=int(input())\n",
    "for i in range(number):\n",
    "    a+= i+1\n",
    "print(a)"
   ]
  },
  {
   "cell_type": "code",
   "execution_count": 25,
   "metadata": {},
   "outputs": [
    {
     "name": "stdout",
     "output_type": "stream",
     "text": [
      "Yes\n"
     ]
    }
   ],
   "source": [
    "#영수증\n",
    "\n",
    "total_money=int(input())\n",
    "count=int(input())\n",
    "total=0\n",
    "for i in range(count):\n",
    "    things=input().split(' ')\n",
    "    total += int(things[0])*int(things[1])\n",
    "\n",
    "if total==total_money:\n",
    "    print(\"Yes\")\n",
    "else:\n",
    "    print(\"No\")"
   ]
  },
  {
   "cell_type": "code",
   "execution_count": 30,
   "metadata": {},
   "outputs": [
    {
     "name": "stdout",
     "output_type": "stream",
     "text": [
      "long long long long long long int\n"
     ]
    }
   ],
   "source": [
    "#코딩은 체육과목입니다\n",
    "\n",
    "n=int(input())\n",
    "print(\"long \"*(n//4),\"int\",sep='')\n"
   ]
  },
  {
   "cell_type": "code",
   "execution_count": 49,
   "metadata": {},
   "outputs": [
    {
     "name": "stdout",
     "output_type": "stream",
     "text": [
      "Case #1: 2\n",
      "Case #2: 2\n",
      "Case #3: 2\n",
      "Case #4: 2\n",
      "Case #5: 2\n"
     ]
    }
   ],
   "source": [
    "#A+B-7\n",
    "n=int(input())\n",
    "for i in range(n):\n",
    "    b_list=input().split(' ')\n",
    "    print('Case #',int(i)+1,': ',int(b_list[0])+int(b_list[1]),sep='')"
   ]
  },
  {
   "cell_type": "code",
   "execution_count": 48,
   "metadata": {},
   "outputs": [
    {
     "name": "stdout",
     "output_type": "stream",
     "text": [
      "Case #1: 1 + 1 = 2\n",
      "Case #2: 2 + 2 = 4\n",
      "Case #3: 1 + 1 = 2\n",
      "Case #4: 1 + 1 = 2\n",
      "Case #5: 1 + 1 = 2\n"
     ]
    }
   ],
   "source": [
    "#A+B-8\n",
    "n=int(input())\n",
    "for i in range(n):\n",
    "    a_list=input().split(' ')\n",
    "    print('Case #',int(i)+1,': ',a_list[0],\" + \",a_list[1],\" = \",int(a_list[0])+int(a_list[1]),sep='')"
   ]
  },
  {
   "cell_type": "code",
   "execution_count": null,
   "metadata": {},
   "outputs": [],
   "source": [
    "#개수 세기\n",
    "\n",
    "num_count=int(input())\n",
    "n_list = list(map(int, input().split()))\n",
    "v = int(input())\n",
    "\n",
    "print(n_list.count(v))"
   ]
  },
  {
   "cell_type": "code",
   "execution_count": 1,
   "metadata": {},
   "outputs": [
    {
     "name": "stdout",
     "output_type": "stream",
     "text": [
      "7 35\n"
     ]
    }
   ],
   "source": [
    "#최소, 최대\n",
    "\n",
    "num_count=int(input())\n",
    "n_list=list(map(int,input().split()))\n",
    "n_list.sort()\n",
    "print(n_list[0],n_list[int(num_count)-1])\n"
   ]
  },
  {
   "cell_type": "code",
   "execution_count": null,
   "metadata": {},
   "outputs": [
    {
     "name": "stdout",
     "output_type": "stream",
     "text": [
      "85\n",
      "8\n"
     ]
    }
   ],
   "source": [
    "#최댓값\n",
    "n_list=[]\n",
    "for i in range(9):\n",
    "    n_list.append(int(input()))\n",
    "\n",
    "print(max(n_list))\n",
    "print(int(n_list.index(max(n_list)))+1)"
   ]
  },
  {
   "cell_type": "code",
   "execution_count": null,
   "metadata": {},
   "outputs": [],
   "source": []
  }
 ],
 "metadata": {
  "kernelspec": {
   "display_name": "Python 3",
   "language": "python",
   "name": "python3"
  },
  "language_info": {
   "codemirror_mode": {
    "name": "ipython",
    "version": 3
   },
   "file_extension": ".py",
   "mimetype": "text/x-python",
   "name": "python",
   "nbconvert_exporter": "python",
   "pygments_lexer": "ipython3",
   "version": "3.13.1"
  }
 },
 "nbformat": 4,
 "nbformat_minor": 2
}
